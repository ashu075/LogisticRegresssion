{
 "cells": [
  {
   "cell_type": "code",
   "execution_count": 3,
   "metadata": {
    "colab": {
     "base_uri": "https://localhost:8080/",
     "height": 292
    },
    "colab_type": "code",
    "id": "BXwjfB2cnVy3",
    "outputId": "fd27f5f4-6015-42ca-f6da-ce448533cf03"
   },
   "outputs": [
    {
     "name": "stdout",
     "output_type": "stream",
     "text": [
      "Requirement already satisfied: category_encoders in c:\\programdata\\anaconda3\\lib\\site-packages (2.2.2)\n",
      "Requirement already satisfied: statsmodels>=0.9.0 in c:\\programdata\\anaconda3\\lib\\site-packages (from category_encoders) (0.9.0)\n",
      "Requirement already satisfied: patsy>=0.5.1 in c:\\programdata\\anaconda3\\lib\\site-packages (from category_encoders) (0.5.1)\n",
      "Requirement already satisfied: scipy>=1.0.0 in c:\\programdata\\anaconda3\\lib\\site-packages (from category_encoders) (1.1.0)\n",
      "Requirement already satisfied: pandas>=0.21.1 in c:\\programdata\\anaconda3\\lib\\site-packages (from category_encoders) (0.23.4)\n",
      "Requirement already satisfied: numpy>=1.14.0 in c:\\programdata\\anaconda3\\lib\\site-packages (from category_encoders) (1.15.4)\n",
      "Requirement already satisfied: scikit-learn>=0.20.0 in c:\\programdata\\anaconda3\\lib\\site-packages (from category_encoders) (0.20.1)\n",
      "Requirement already satisfied: six in c:\\programdata\\anaconda3\\lib\\site-packages (from patsy>=0.5.1->category_encoders) (1.12.0)\n",
      "Requirement already satisfied: python-dateutil>=2.5.0 in c:\\programdata\\anaconda3\\lib\\site-packages (from pandas>=0.21.1->category_encoders) (2.7.5)\n",
      "Requirement already satisfied: pytz>=2011k in c:\\programdata\\anaconda3\\lib\\site-packages (from pandas>=0.21.1->category_encoders) (2018.7)\n"
     ]
    }
   ],
   "source": [
    "# Suppressing Warnings\n",
    "import warnings\n",
    "warnings.filterwarnings('ignore')\n",
    "\n",
    "import pandas as pd\n",
    "pd.options.display.max_rows = 100\n",
    "import numpy as np\n",
    "import matplotlib.pyplot as plt\n",
    "import seaborn as sns\n",
    "\n",
    "import statsmodels.api as sm\n",
    "from statsmodels.stats.outliers_influence import variance_inflation_factor\n",
    "\n",
    "from sklearn import metrics\n",
    "from sklearn.metrics import roc_auc_score, classification_report, confusion_matrix\n",
    "from sklearn.linear_model import LogisticRegression\n",
    "from sklearn.feature_selection import RFE\n",
    "from sklearn.preprocessing import MinMaxScaler, StandardScaler\n",
    "from sklearn.model_selection import train_test_split\n",
    "\n",
    "!pip install category_encoders\n",
    "import category_encoders as ce"
   ]
  },
  {
   "cell_type": "code",
   "execution_count": 4,
   "metadata": {
    "colab": {
     "base_uri": "https://localhost:8080/",
     "height": 547
    },
    "colab_type": "code",
    "id": "d2N19uJrnY1S",
    "outputId": "b92673db-a2a3-4eab-d126-f80571e96b6f"
   },
   "outputs": [
    {
     "data": {
      "text/html": [
       "<div>\n",
       "<style scoped>\n",
       "    .dataframe tbody tr th:only-of-type {\n",
       "        vertical-align: middle;\n",
       "    }\n",
       "\n",
       "    .dataframe tbody tr th {\n",
       "        vertical-align: top;\n",
       "    }\n",
       "\n",
       "    .dataframe thead th {\n",
       "        text-align: right;\n",
       "    }\n",
       "</style>\n",
       "<table border=\"1\" class=\"dataframe\">\n",
       "  <thead>\n",
       "    <tr style=\"text-align: right;\">\n",
       "      <th></th>\n",
       "      <th>Prospect ID</th>\n",
       "      <th>Lead Number</th>\n",
       "      <th>Lead Origin</th>\n",
       "      <th>Lead Source</th>\n",
       "      <th>Do Not Email</th>\n",
       "      <th>Do Not Call</th>\n",
       "      <th>Converted</th>\n",
       "      <th>TotalVisits</th>\n",
       "      <th>Total Time Spent on Website</th>\n",
       "      <th>Page Views Per Visit</th>\n",
       "      <th>...</th>\n",
       "      <th>Get updates on DM Content</th>\n",
       "      <th>Lead Profile</th>\n",
       "      <th>City</th>\n",
       "      <th>Asymmetrique Activity Index</th>\n",
       "      <th>Asymmetrique Profile Index</th>\n",
       "      <th>Asymmetrique Activity Score</th>\n",
       "      <th>Asymmetrique Profile Score</th>\n",
       "      <th>I agree to pay the amount through cheque</th>\n",
       "      <th>A free copy of Mastering The Interview</th>\n",
       "      <th>Last Notable Activity</th>\n",
       "    </tr>\n",
       "  </thead>\n",
       "  <tbody>\n",
       "    <tr>\n",
       "      <th>0</th>\n",
       "      <td>7927b2df-8bba-4d29-b9a2-b6e0beafe620</td>\n",
       "      <td>660737</td>\n",
       "      <td>API</td>\n",
       "      <td>Olark Chat</td>\n",
       "      <td>No</td>\n",
       "      <td>No</td>\n",
       "      <td>0</td>\n",
       "      <td>0.0</td>\n",
       "      <td>0</td>\n",
       "      <td>0.0</td>\n",
       "      <td>...</td>\n",
       "      <td>No</td>\n",
       "      <td>Select</td>\n",
       "      <td>Select</td>\n",
       "      <td>02.Medium</td>\n",
       "      <td>02.Medium</td>\n",
       "      <td>15.0</td>\n",
       "      <td>15.0</td>\n",
       "      <td>No</td>\n",
       "      <td>No</td>\n",
       "      <td>Modified</td>\n",
       "    </tr>\n",
       "    <tr>\n",
       "      <th>1</th>\n",
       "      <td>2a272436-5132-4136-86fa-dcc88c88f482</td>\n",
       "      <td>660728</td>\n",
       "      <td>API</td>\n",
       "      <td>Organic Search</td>\n",
       "      <td>No</td>\n",
       "      <td>No</td>\n",
       "      <td>0</td>\n",
       "      <td>5.0</td>\n",
       "      <td>674</td>\n",
       "      <td>2.5</td>\n",
       "      <td>...</td>\n",
       "      <td>No</td>\n",
       "      <td>Select</td>\n",
       "      <td>Select</td>\n",
       "      <td>02.Medium</td>\n",
       "      <td>02.Medium</td>\n",
       "      <td>15.0</td>\n",
       "      <td>15.0</td>\n",
       "      <td>No</td>\n",
       "      <td>No</td>\n",
       "      <td>Email Opened</td>\n",
       "    </tr>\n",
       "    <tr>\n",
       "      <th>2</th>\n",
       "      <td>8cc8c611-a219-4f35-ad23-fdfd2656bd8a</td>\n",
       "      <td>660727</td>\n",
       "      <td>Landing Page Submission</td>\n",
       "      <td>Direct Traffic</td>\n",
       "      <td>No</td>\n",
       "      <td>No</td>\n",
       "      <td>1</td>\n",
       "      <td>2.0</td>\n",
       "      <td>1532</td>\n",
       "      <td>2.0</td>\n",
       "      <td>...</td>\n",
       "      <td>No</td>\n",
       "      <td>Potential Lead</td>\n",
       "      <td>Mumbai</td>\n",
       "      <td>02.Medium</td>\n",
       "      <td>01.High</td>\n",
       "      <td>14.0</td>\n",
       "      <td>20.0</td>\n",
       "      <td>No</td>\n",
       "      <td>Yes</td>\n",
       "      <td>Email Opened</td>\n",
       "    </tr>\n",
       "    <tr>\n",
       "      <th>3</th>\n",
       "      <td>0cc2df48-7cf4-4e39-9de9-19797f9b38cc</td>\n",
       "      <td>660719</td>\n",
       "      <td>Landing Page Submission</td>\n",
       "      <td>Direct Traffic</td>\n",
       "      <td>No</td>\n",
       "      <td>No</td>\n",
       "      <td>0</td>\n",
       "      <td>1.0</td>\n",
       "      <td>305</td>\n",
       "      <td>1.0</td>\n",
       "      <td>...</td>\n",
       "      <td>No</td>\n",
       "      <td>Select</td>\n",
       "      <td>Mumbai</td>\n",
       "      <td>02.Medium</td>\n",
       "      <td>01.High</td>\n",
       "      <td>13.0</td>\n",
       "      <td>17.0</td>\n",
       "      <td>No</td>\n",
       "      <td>No</td>\n",
       "      <td>Modified</td>\n",
       "    </tr>\n",
       "    <tr>\n",
       "      <th>4</th>\n",
       "      <td>3256f628-e534-4826-9d63-4a8b88782852</td>\n",
       "      <td>660681</td>\n",
       "      <td>Landing Page Submission</td>\n",
       "      <td>Google</td>\n",
       "      <td>No</td>\n",
       "      <td>No</td>\n",
       "      <td>1</td>\n",
       "      <td>2.0</td>\n",
       "      <td>1428</td>\n",
       "      <td>1.0</td>\n",
       "      <td>...</td>\n",
       "      <td>No</td>\n",
       "      <td>Select</td>\n",
       "      <td>Mumbai</td>\n",
       "      <td>02.Medium</td>\n",
       "      <td>01.High</td>\n",
       "      <td>15.0</td>\n",
       "      <td>18.0</td>\n",
       "      <td>No</td>\n",
       "      <td>No</td>\n",
       "      <td>Modified</td>\n",
       "    </tr>\n",
       "  </tbody>\n",
       "</table>\n",
       "<p>5 rows × 37 columns</p>\n",
       "</div>"
      ],
      "text/plain": [
       "                            Prospect ID  Lead Number              Lead Origin  \\\n",
       "0  7927b2df-8bba-4d29-b9a2-b6e0beafe620       660737                      API   \n",
       "1  2a272436-5132-4136-86fa-dcc88c88f482       660728                      API   \n",
       "2  8cc8c611-a219-4f35-ad23-fdfd2656bd8a       660727  Landing Page Submission   \n",
       "3  0cc2df48-7cf4-4e39-9de9-19797f9b38cc       660719  Landing Page Submission   \n",
       "4  3256f628-e534-4826-9d63-4a8b88782852       660681  Landing Page Submission   \n",
       "\n",
       "      Lead Source Do Not Email Do Not Call  Converted  TotalVisits  \\\n",
       "0      Olark Chat           No          No          0          0.0   \n",
       "1  Organic Search           No          No          0          5.0   \n",
       "2  Direct Traffic           No          No          1          2.0   \n",
       "3  Direct Traffic           No          No          0          1.0   \n",
       "4          Google           No          No          1          2.0   \n",
       "\n",
       "   Total Time Spent on Website  Page Views Per Visit          ...           \\\n",
       "0                            0                   0.0          ...            \n",
       "1                          674                   2.5          ...            \n",
       "2                         1532                   2.0          ...            \n",
       "3                          305                   1.0          ...            \n",
       "4                         1428                   1.0          ...            \n",
       "\n",
       "  Get updates on DM Content    Lead Profile    City  \\\n",
       "0                        No          Select  Select   \n",
       "1                        No          Select  Select   \n",
       "2                        No  Potential Lead  Mumbai   \n",
       "3                        No          Select  Mumbai   \n",
       "4                        No          Select  Mumbai   \n",
       "\n",
       "  Asymmetrique Activity Index Asymmetrique Profile Index  \\\n",
       "0                   02.Medium                  02.Medium   \n",
       "1                   02.Medium                  02.Medium   \n",
       "2                   02.Medium                    01.High   \n",
       "3                   02.Medium                    01.High   \n",
       "4                   02.Medium                    01.High   \n",
       "\n",
       "  Asymmetrique Activity Score Asymmetrique Profile Score  \\\n",
       "0                        15.0                       15.0   \n",
       "1                        15.0                       15.0   \n",
       "2                        14.0                       20.0   \n",
       "3                        13.0                       17.0   \n",
       "4                        15.0                       18.0   \n",
       "\n",
       "  I agree to pay the amount through cheque  \\\n",
       "0                                       No   \n",
       "1                                       No   \n",
       "2                                       No   \n",
       "3                                       No   \n",
       "4                                       No   \n",
       "\n",
       "  A free copy of Mastering The Interview Last Notable Activity  \n",
       "0                                     No              Modified  \n",
       "1                                     No          Email Opened  \n",
       "2                                    Yes          Email Opened  \n",
       "3                                     No              Modified  \n",
       "4                                     No              Modified  \n",
       "\n",
       "[5 rows x 37 columns]"
      ]
     },
     "execution_count": 4,
     "metadata": {},
     "output_type": "execute_result"
    }
   ],
   "source": [
    "# Importing dataset\n",
    "leads = pd.read_csv(\"Leads.csv\")\n",
    "leads.head()"
   ]
  },
  {
   "cell_type": "code",
   "execution_count": 5,
   "metadata": {
    "colab": {},
    "colab_type": "code",
    "id": "GLLZqO9Y3bR7"
   },
   "outputs": [],
   "source": [
    "# Dropping the following columns because this is the data collected by the sales team after contacting potential leads.\n",
    "leads = leads.drop([\"Tags\", \"Lead Profile\", \"Lead Quality\",\"Asymmetrique Activity Index\", \"Asymmetrique Profile Index\", \"Asymmetrique Activity Score\", \"Asymmetrique Profile Score\"],axis = 1)\n",
    "\n",
    "# Setting \"Lead Number as the index\"\n",
    "leads = leads.set_index(\"Lead Number\")"
   ]
  },
  {
   "cell_type": "code",
   "execution_count": 6,
   "metadata": {
    "colab": {
     "base_uri": "https://localhost:8080/",
     "height": 421
    },
    "colab_type": "code",
    "id": "mojNVS5incXs",
    "outputId": "efe21b1d-8bbf-431c-e451-6d74cacd4303"
   },
   "outputs": [
    {
     "data": {
      "text/html": [
       "<div>\n",
       "<style scoped>\n",
       "    .dataframe tbody tr th:only-of-type {\n",
       "        vertical-align: middle;\n",
       "    }\n",
       "\n",
       "    .dataframe tbody tr th {\n",
       "        vertical-align: top;\n",
       "    }\n",
       "\n",
       "    .dataframe thead th {\n",
       "        text-align: right;\n",
       "    }\n",
       "</style>\n",
       "<table border=\"1\" class=\"dataframe\">\n",
       "  <thead>\n",
       "    <tr style=\"text-align: right;\">\n",
       "      <th></th>\n",
       "      <th>Converted</th>\n",
       "      <th>TotalVisits</th>\n",
       "      <th>Total Time Spent on Website</th>\n",
       "      <th>Page Views Per Visit</th>\n",
       "    </tr>\n",
       "  </thead>\n",
       "  <tbody>\n",
       "    <tr>\n",
       "      <th>count</th>\n",
       "      <td>9240.000000</td>\n",
       "      <td>9103.000000</td>\n",
       "      <td>9240.000000</td>\n",
       "      <td>9103.000000</td>\n",
       "    </tr>\n",
       "    <tr>\n",
       "      <th>mean</th>\n",
       "      <td>0.385390</td>\n",
       "      <td>3.445238</td>\n",
       "      <td>487.698268</td>\n",
       "      <td>2.362820</td>\n",
       "    </tr>\n",
       "    <tr>\n",
       "      <th>std</th>\n",
       "      <td>0.486714</td>\n",
       "      <td>4.854853</td>\n",
       "      <td>548.021466</td>\n",
       "      <td>2.161418</td>\n",
       "    </tr>\n",
       "    <tr>\n",
       "      <th>min</th>\n",
       "      <td>0.000000</td>\n",
       "      <td>0.000000</td>\n",
       "      <td>0.000000</td>\n",
       "      <td>0.000000</td>\n",
       "    </tr>\n",
       "    <tr>\n",
       "      <th>1%</th>\n",
       "      <td>0.000000</td>\n",
       "      <td>0.000000</td>\n",
       "      <td>0.000000</td>\n",
       "      <td>0.000000</td>\n",
       "    </tr>\n",
       "    <tr>\n",
       "      <th>10%</th>\n",
       "      <td>0.000000</td>\n",
       "      <td>0.000000</td>\n",
       "      <td>0.000000</td>\n",
       "      <td>0.000000</td>\n",
       "    </tr>\n",
       "    <tr>\n",
       "      <th>25%</th>\n",
       "      <td>0.000000</td>\n",
       "      <td>1.000000</td>\n",
       "      <td>12.000000</td>\n",
       "      <td>1.000000</td>\n",
       "    </tr>\n",
       "    <tr>\n",
       "      <th>50%</th>\n",
       "      <td>0.000000</td>\n",
       "      <td>3.000000</td>\n",
       "      <td>248.000000</td>\n",
       "      <td>2.000000</td>\n",
       "    </tr>\n",
       "    <tr>\n",
       "      <th>75%</th>\n",
       "      <td>1.000000</td>\n",
       "      <td>5.000000</td>\n",
       "      <td>936.000000</td>\n",
       "      <td>3.000000</td>\n",
       "    </tr>\n",
       "    <tr>\n",
       "      <th>90%</th>\n",
       "      <td>1.000000</td>\n",
       "      <td>7.000000</td>\n",
       "      <td>1380.000000</td>\n",
       "      <td>5.000000</td>\n",
       "    </tr>\n",
       "    <tr>\n",
       "      <th>99%</th>\n",
       "      <td>1.000000</td>\n",
       "      <td>17.000000</td>\n",
       "      <td>1840.610000</td>\n",
       "      <td>9.000000</td>\n",
       "    </tr>\n",
       "    <tr>\n",
       "      <th>max</th>\n",
       "      <td>1.000000</td>\n",
       "      <td>251.000000</td>\n",
       "      <td>2272.000000</td>\n",
       "      <td>55.000000</td>\n",
       "    </tr>\n",
       "  </tbody>\n",
       "</table>\n",
       "</div>"
      ],
      "text/plain": [
       "         Converted  TotalVisits  Total Time Spent on Website  \\\n",
       "count  9240.000000  9103.000000                  9240.000000   \n",
       "mean      0.385390     3.445238                   487.698268   \n",
       "std       0.486714     4.854853                   548.021466   \n",
       "min       0.000000     0.000000                     0.000000   \n",
       "1%        0.000000     0.000000                     0.000000   \n",
       "10%       0.000000     0.000000                     0.000000   \n",
       "25%       0.000000     1.000000                    12.000000   \n",
       "50%       0.000000     3.000000                   248.000000   \n",
       "75%       1.000000     5.000000                   936.000000   \n",
       "90%       1.000000     7.000000                  1380.000000   \n",
       "99%       1.000000    17.000000                  1840.610000   \n",
       "max       1.000000   251.000000                  2272.000000   \n",
       "\n",
       "       Page Views Per Visit  \n",
       "count           9103.000000  \n",
       "mean               2.362820  \n",
       "std                2.161418  \n",
       "min                0.000000  \n",
       "1%                 0.000000  \n",
       "10%                0.000000  \n",
       "25%                1.000000  \n",
       "50%                2.000000  \n",
       "75%                3.000000  \n",
       "90%                5.000000  \n",
       "99%                9.000000  \n",
       "max               55.000000  "
      ]
     },
     "execution_count": 6,
     "metadata": {},
     "output_type": "execute_result"
    }
   ],
   "source": [
    "leads.describe([0.01, 0.1, 0.25, 0.5, 0.75, 0.9, 0.99])"
   ]
  },
  {
   "cell_type": "code",
   "execution_count": 7,
   "metadata": {
    "colab": {
     "base_uri": "https://localhost:8080/",
     "height": 629
    },
    "colab_type": "code",
    "id": "D5nNU-wDne3p",
    "outputId": "c461cea4-cce8-4909-d2d1-95c520580de5"
   },
   "outputs": [
    {
     "name": "stdout",
     "output_type": "stream",
     "text": [
      "<class 'pandas.core.frame.DataFrame'>\n",
      "Int64Index: 9240 entries, 660737 to 579533\n",
      "Data columns (total 29 columns):\n",
      "Prospect ID                                      9240 non-null object\n",
      "Lead Origin                                      9240 non-null object\n",
      "Lead Source                                      9204 non-null object\n",
      "Do Not Email                                     9240 non-null object\n",
      "Do Not Call                                      9240 non-null object\n",
      "Converted                                        9240 non-null int64\n",
      "TotalVisits                                      9103 non-null float64\n",
      "Total Time Spent on Website                      9240 non-null int64\n",
      "Page Views Per Visit                             9103 non-null float64\n",
      "Last Activity                                    9137 non-null object\n",
      "Country                                          6779 non-null object\n",
      "Specialization                                   7802 non-null object\n",
      "How did you hear about X Education               7033 non-null object\n",
      "What is your current occupation                  6550 non-null object\n",
      "What matters most to you in choosing a course    6531 non-null object\n",
      "Search                                           9240 non-null object\n",
      "Magazine                                         9240 non-null object\n",
      "Newspaper Article                                9240 non-null object\n",
      "X Education Forums                               9240 non-null object\n",
      "Newspaper                                        9240 non-null object\n",
      "Digital Advertisement                            9240 non-null object\n",
      "Through Recommendations                          9240 non-null object\n",
      "Receive More Updates About Our Courses           9240 non-null object\n",
      "Update me on Supply Chain Content                9240 non-null object\n",
      "Get updates on DM Content                        9240 non-null object\n",
      "City                                             7820 non-null object\n",
      "I agree to pay the amount through cheque         9240 non-null object\n",
      "A free copy of Mastering The Interview           9240 non-null object\n",
      "Last Notable Activity                            9240 non-null object\n",
      "dtypes: float64(2), int64(2), object(25)\n",
      "memory usage: 2.1+ MB\n"
     ]
    }
   ],
   "source": [
    "leads.info()"
   ]
  },
  {
   "cell_type": "code",
   "execution_count": 8,
   "metadata": {
    "colab": {
     "base_uri": "https://localhost:8080/",
     "height": 527
    },
    "colab_type": "code",
    "id": "W8WNuwHvnhI4",
    "outputId": "e8a516c4-a7be-4a67-80fc-2e974a2b90e5"
   },
   "outputs": [
    {
     "data": {
      "text/plain": [
       "What matters most to you in choosing a course    29.32\n",
       "What is your current occupation                  29.11\n",
       "Country                                          26.63\n",
       "How did you hear about X Education               23.89\n",
       "Specialization                                   15.56\n",
       "City                                             15.37\n",
       "TotalVisits                                       1.48\n",
       "Page Views Per Visit                              1.48\n",
       "Last Activity                                     1.11\n",
       "Lead Source                                       0.39\n",
       "Lead Origin                                       0.00\n",
       "Do Not Email                                      0.00\n",
       "Do Not Call                                       0.00\n",
       "Converted                                         0.00\n",
       "Total Time Spent on Website                       0.00\n",
       "Last Notable Activity                             0.00\n",
       "A free copy of Mastering The Interview            0.00\n",
       "Search                                            0.00\n",
       "Magazine                                          0.00\n",
       "Newspaper Article                                 0.00\n",
       "X Education Forums                                0.00\n",
       "Newspaper                                         0.00\n",
       "Digital Advertisement                             0.00\n",
       "Through Recommendations                           0.00\n",
       "Receive More Updates About Our Courses            0.00\n",
       "Update me on Supply Chain Content                 0.00\n",
       "Get updates on DM Content                         0.00\n",
       "I agree to pay the amount through cheque          0.00\n",
       "Prospect ID                                       0.00\n",
       "dtype: float64"
      ]
     },
     "execution_count": 8,
     "metadata": {},
     "output_type": "execute_result"
    }
   ],
   "source": [
    "# Checking the percentage of null values column wise\n",
    "round(leads.isnull().mean().sort_values(ascending = False)*100,2)"
   ]
  },
  {
   "cell_type": "code",
   "execution_count": 9,
   "metadata": {},
   "outputs": [
    {
     "data": {
      "text/plain": [
       "Lead Number\n",
       "660737    0.01\n",
       "660728    0.00\n",
       "660727    0.00\n",
       "660719    0.00\n",
       "660681    0.00\n",
       "660680    0.06\n",
       "660673    0.00\n",
       "660664    0.06\n",
       "660624    0.03\n",
       "660616    0.02\n",
       "660608    0.00\n",
       "660570    0.00\n",
       "660562    0.00\n",
       "660558    0.00\n",
       "660553    0.00\n",
       "660547    0.00\n",
       "660540    0.06\n",
       "660534    0.00\n",
       "660522    0.00\n",
       "660509    0.00\n",
       "660479    0.00\n",
       "660478    0.00\n",
       "660471    0.00\n",
       "660461    0.00\n",
       "660458    0.00\n",
       "660447    0.00\n",
       "660432    0.00\n",
       "660424    0.00\n",
       "660423    0.00\n",
       "660410    0.00\n",
       "660402    0.00\n",
       "660374    0.00\n",
       "660361    0.00\n",
       "660339    0.05\n",
       "660333    0.00\n",
       "660321    0.00\n",
       "660312    0.00\n",
       "660267    0.00\n",
       "660255    0.00\n",
       "660236    0.00\n",
       "660235    0.00\n",
       "660222    0.00\n",
       "660215    0.00\n",
       "660203    0.02\n",
       "660194    0.00\n",
       "660180    0.00\n",
       "660174    0.00\n",
       "660153    0.06\n",
       "660149    0.00\n",
       "660128    0.06\n",
       "          ... \n",
       "579941    0.00\n",
       "579930    0.00\n",
       "579928    0.00\n",
       "579926    0.01\n",
       "579925    0.00\n",
       "579920    0.00\n",
       "579918    0.00\n",
       "579906    0.00\n",
       "579900    0.00\n",
       "579892    0.01\n",
       "579890    0.00\n",
       "579889    0.02\n",
       "579885    0.00\n",
       "579884    0.00\n",
       "579883    0.00\n",
       "579870    0.00\n",
       "579869    0.00\n",
       "579853    0.05\n",
       "579851    0.05\n",
       "579836    0.03\n",
       "579833    0.00\n",
       "579832    0.00\n",
       "579830    0.00\n",
       "579822    0.03\n",
       "579808    0.05\n",
       "579802    0.03\n",
       "579799    0.00\n",
       "579786    0.01\n",
       "579784    0.02\n",
       "579778    0.00\n",
       "579769    0.00\n",
       "579767    0.00\n",
       "579764    0.00\n",
       "579755    0.00\n",
       "579753    0.00\n",
       "579744    0.00\n",
       "579735    0.01\n",
       "579728    0.00\n",
       "579717    0.00\n",
       "579712    0.00\n",
       "579701    0.00\n",
       "579697    0.00\n",
       "579642    0.00\n",
       "579622    0.00\n",
       "579615    0.00\n",
       "579564    0.00\n",
       "579546    0.00\n",
       "579545    0.00\n",
       "579538    0.02\n",
       "579533    0.00\n",
       "Length: 9240, dtype: float64"
      ]
     },
     "execution_count": 9,
     "metadata": {},
     "output_type": "execute_result"
    }
   ],
   "source": [
    "# Checking the percentage of null values row wise\n",
    "round(100*(leads.isnull().sum(axis=1)/len(leads.index)), 2)"
   ]
  },
  {
   "cell_type": "markdown",
   "metadata": {
    "colab_type": "text",
    "id": "FHj99nNDnsGB"
   },
   "source": [
    "### Investigating categorical variables"
   ]
  },
  {
   "cell_type": "code",
   "execution_count": 10,
   "metadata": {
    "colab": {
     "base_uri": "https://localhost:8080/",
     "height": 595
    },
    "colab_type": "code",
    "id": "Bx27mDeGnj9-",
    "outputId": "1abcce32-8627-4068-ccec-910e186bf851"
   },
   "outputs": [
    {
     "data": {
      "text/html": [
       "<div>\n",
       "<style scoped>\n",
       "    .dataframe tbody tr th:only-of-type {\n",
       "        vertical-align: middle;\n",
       "    }\n",
       "\n",
       "    .dataframe tbody tr th {\n",
       "        vertical-align: top;\n",
       "    }\n",
       "\n",
       "    .dataframe thead th {\n",
       "        text-align: right;\n",
       "    }\n",
       "</style>\n",
       "<table border=\"1\" class=\"dataframe\">\n",
       "  <thead>\n",
       "    <tr style=\"text-align: right;\">\n",
       "      <th></th>\n",
       "      <th>Prospect ID</th>\n",
       "      <th>Lead Origin</th>\n",
       "      <th>Lead Source</th>\n",
       "      <th>Do Not Email</th>\n",
       "      <th>Do Not Call</th>\n",
       "      <th>Last Activity</th>\n",
       "      <th>Country</th>\n",
       "      <th>Specialization</th>\n",
       "      <th>How did you hear about X Education</th>\n",
       "      <th>What is your current occupation</th>\n",
       "      <th>...</th>\n",
       "      <th>Newspaper</th>\n",
       "      <th>Digital Advertisement</th>\n",
       "      <th>Through Recommendations</th>\n",
       "      <th>Receive More Updates About Our Courses</th>\n",
       "      <th>Update me on Supply Chain Content</th>\n",
       "      <th>Get updates on DM Content</th>\n",
       "      <th>City</th>\n",
       "      <th>I agree to pay the amount through cheque</th>\n",
       "      <th>A free copy of Mastering The Interview</th>\n",
       "      <th>Last Notable Activity</th>\n",
       "    </tr>\n",
       "    <tr>\n",
       "      <th>Lead Number</th>\n",
       "      <th></th>\n",
       "      <th></th>\n",
       "      <th></th>\n",
       "      <th></th>\n",
       "      <th></th>\n",
       "      <th></th>\n",
       "      <th></th>\n",
       "      <th></th>\n",
       "      <th></th>\n",
       "      <th></th>\n",
       "      <th></th>\n",
       "      <th></th>\n",
       "      <th></th>\n",
       "      <th></th>\n",
       "      <th></th>\n",
       "      <th></th>\n",
       "      <th></th>\n",
       "      <th></th>\n",
       "      <th></th>\n",
       "      <th></th>\n",
       "      <th></th>\n",
       "    </tr>\n",
       "  </thead>\n",
       "  <tbody>\n",
       "    <tr>\n",
       "      <th>660737</th>\n",
       "      <td>7927b2df-8bba-4d29-b9a2-b6e0beafe620</td>\n",
       "      <td>API</td>\n",
       "      <td>Olark Chat</td>\n",
       "      <td>No</td>\n",
       "      <td>No</td>\n",
       "      <td>Page Visited on Website</td>\n",
       "      <td>NaN</td>\n",
       "      <td>Select</td>\n",
       "      <td>Select</td>\n",
       "      <td>Unemployed</td>\n",
       "      <td>...</td>\n",
       "      <td>No</td>\n",
       "      <td>No</td>\n",
       "      <td>No</td>\n",
       "      <td>No</td>\n",
       "      <td>No</td>\n",
       "      <td>No</td>\n",
       "      <td>Select</td>\n",
       "      <td>No</td>\n",
       "      <td>No</td>\n",
       "      <td>Modified</td>\n",
       "    </tr>\n",
       "    <tr>\n",
       "      <th>660728</th>\n",
       "      <td>2a272436-5132-4136-86fa-dcc88c88f482</td>\n",
       "      <td>API</td>\n",
       "      <td>Organic Search</td>\n",
       "      <td>No</td>\n",
       "      <td>No</td>\n",
       "      <td>Email Opened</td>\n",
       "      <td>India</td>\n",
       "      <td>Select</td>\n",
       "      <td>Select</td>\n",
       "      <td>Unemployed</td>\n",
       "      <td>...</td>\n",
       "      <td>No</td>\n",
       "      <td>No</td>\n",
       "      <td>No</td>\n",
       "      <td>No</td>\n",
       "      <td>No</td>\n",
       "      <td>No</td>\n",
       "      <td>Select</td>\n",
       "      <td>No</td>\n",
       "      <td>No</td>\n",
       "      <td>Email Opened</td>\n",
       "    </tr>\n",
       "    <tr>\n",
       "      <th>660727</th>\n",
       "      <td>8cc8c611-a219-4f35-ad23-fdfd2656bd8a</td>\n",
       "      <td>Landing Page Submission</td>\n",
       "      <td>Direct Traffic</td>\n",
       "      <td>No</td>\n",
       "      <td>No</td>\n",
       "      <td>Email Opened</td>\n",
       "      <td>India</td>\n",
       "      <td>Business Administration</td>\n",
       "      <td>Select</td>\n",
       "      <td>Student</td>\n",
       "      <td>...</td>\n",
       "      <td>No</td>\n",
       "      <td>No</td>\n",
       "      <td>No</td>\n",
       "      <td>No</td>\n",
       "      <td>No</td>\n",
       "      <td>No</td>\n",
       "      <td>Mumbai</td>\n",
       "      <td>No</td>\n",
       "      <td>Yes</td>\n",
       "      <td>Email Opened</td>\n",
       "    </tr>\n",
       "    <tr>\n",
       "      <th>660719</th>\n",
       "      <td>0cc2df48-7cf4-4e39-9de9-19797f9b38cc</td>\n",
       "      <td>Landing Page Submission</td>\n",
       "      <td>Direct Traffic</td>\n",
       "      <td>No</td>\n",
       "      <td>No</td>\n",
       "      <td>Unreachable</td>\n",
       "      <td>India</td>\n",
       "      <td>Media and Advertising</td>\n",
       "      <td>Word Of Mouth</td>\n",
       "      <td>Unemployed</td>\n",
       "      <td>...</td>\n",
       "      <td>No</td>\n",
       "      <td>No</td>\n",
       "      <td>No</td>\n",
       "      <td>No</td>\n",
       "      <td>No</td>\n",
       "      <td>No</td>\n",
       "      <td>Mumbai</td>\n",
       "      <td>No</td>\n",
       "      <td>No</td>\n",
       "      <td>Modified</td>\n",
       "    </tr>\n",
       "    <tr>\n",
       "      <th>660681</th>\n",
       "      <td>3256f628-e534-4826-9d63-4a8b88782852</td>\n",
       "      <td>Landing Page Submission</td>\n",
       "      <td>Google</td>\n",
       "      <td>No</td>\n",
       "      <td>No</td>\n",
       "      <td>Converted to Lead</td>\n",
       "      <td>India</td>\n",
       "      <td>Select</td>\n",
       "      <td>Other</td>\n",
       "      <td>Unemployed</td>\n",
       "      <td>...</td>\n",
       "      <td>No</td>\n",
       "      <td>No</td>\n",
       "      <td>No</td>\n",
       "      <td>No</td>\n",
       "      <td>No</td>\n",
       "      <td>No</td>\n",
       "      <td>Mumbai</td>\n",
       "      <td>No</td>\n",
       "      <td>No</td>\n",
       "      <td>Modified</td>\n",
       "    </tr>\n",
       "  </tbody>\n",
       "</table>\n",
       "<p>5 rows × 25 columns</p>\n",
       "</div>"
      ],
      "text/plain": [
       "                                      Prospect ID              Lead Origin  \\\n",
       "Lead Number                                                                  \n",
       "660737       7927b2df-8bba-4d29-b9a2-b6e0beafe620                      API   \n",
       "660728       2a272436-5132-4136-86fa-dcc88c88f482                      API   \n",
       "660727       8cc8c611-a219-4f35-ad23-fdfd2656bd8a  Landing Page Submission   \n",
       "660719       0cc2df48-7cf4-4e39-9de9-19797f9b38cc  Landing Page Submission   \n",
       "660681       3256f628-e534-4826-9d63-4a8b88782852  Landing Page Submission   \n",
       "\n",
       "                Lead Source Do Not Email Do Not Call            Last Activity  \\\n",
       "Lead Number                                                                     \n",
       "660737           Olark Chat           No          No  Page Visited on Website   \n",
       "660728       Organic Search           No          No             Email Opened   \n",
       "660727       Direct Traffic           No          No             Email Opened   \n",
       "660719       Direct Traffic           No          No              Unreachable   \n",
       "660681               Google           No          No        Converted to Lead   \n",
       "\n",
       "            Country           Specialization  \\\n",
       "Lead Number                                    \n",
       "660737          NaN                   Select   \n",
       "660728        India                   Select   \n",
       "660727        India  Business Administration   \n",
       "660719        India    Media and Advertising   \n",
       "660681        India                   Select   \n",
       "\n",
       "            How did you hear about X Education  \\\n",
       "Lead Number                                      \n",
       "660737                                  Select   \n",
       "660728                                  Select   \n",
       "660727                                  Select   \n",
       "660719                           Word Of Mouth   \n",
       "660681                                   Other   \n",
       "\n",
       "            What is your current occupation          ...          Newspaper  \\\n",
       "Lead Number                                          ...                      \n",
       "660737                           Unemployed          ...                 No   \n",
       "660728                           Unemployed          ...                 No   \n",
       "660727                              Student          ...                 No   \n",
       "660719                           Unemployed          ...                 No   \n",
       "660681                           Unemployed          ...                 No   \n",
       "\n",
       "            Digital Advertisement Through Recommendations  \\\n",
       "Lead Number                                                 \n",
       "660737                         No                      No   \n",
       "660728                         No                      No   \n",
       "660727                         No                      No   \n",
       "660719                         No                      No   \n",
       "660681                         No                      No   \n",
       "\n",
       "            Receive More Updates About Our Courses  \\\n",
       "Lead Number                                          \n",
       "660737                                          No   \n",
       "660728                                          No   \n",
       "660727                                          No   \n",
       "660719                                          No   \n",
       "660681                                          No   \n",
       "\n",
       "            Update me on Supply Chain Content Get updates on DM Content  \\\n",
       "Lead Number                                                               \n",
       "660737                                     No                        No   \n",
       "660728                                     No                        No   \n",
       "660727                                     No                        No   \n",
       "660719                                     No                        No   \n",
       "660681                                     No                        No   \n",
       "\n",
       "               City I agree to pay the amount through cheque  \\\n",
       "Lead Number                                                    \n",
       "660737       Select                                       No   \n",
       "660728       Select                                       No   \n",
       "660727       Mumbai                                       No   \n",
       "660719       Mumbai                                       No   \n",
       "660681       Mumbai                                       No   \n",
       "\n",
       "            A free copy of Mastering The Interview Last Notable Activity  \n",
       "Lead Number                                                               \n",
       "660737                                          No              Modified  \n",
       "660728                                          No          Email Opened  \n",
       "660727                                         Yes          Email Opened  \n",
       "660719                                          No              Modified  \n",
       "660681                                          No              Modified  \n",
       "\n",
       "[5 rows x 25 columns]"
      ]
     },
     "execution_count": 10,
     "metadata": {},
     "output_type": "execute_result"
    }
   ],
   "source": [
    "leads.select_dtypes(include = \"O\").head()"
   ]
  },
  {
   "cell_type": "code",
   "execution_count": 11,
   "metadata": {
    "colab": {},
    "colab_type": "code",
    "id": "pzFQMwwF7NVb"
   },
   "outputs": [],
   "source": [
    "# Replacing \"Select\" with NaN\n",
    "leads = leads.replace(\"Select\",np.NaN)"
   ]
  },
  {
   "cell_type": "code",
   "execution_count": 12,
   "metadata": {
    "colab": {
     "base_uri": "https://localhost:8080/",
     "height": 561
    },
    "colab_type": "code",
    "id": "_RCwJR8Kn0XW",
    "outputId": "74647db2-536d-4aea-fcb8-50f0ffae672b"
   },
   "outputs": [
    {
     "name": "stdout",
     "output_type": "stream",
     "text": [
      "<class 'pandas.core.frame.DataFrame'>\n",
      "Int64Index: 9240 entries, 660737 to 579533\n",
      "Data columns (total 25 columns):\n",
      "Prospect ID                                      9240 non-null object\n",
      "Lead Origin                                      9240 non-null object\n",
      "Lead Source                                      9204 non-null object\n",
      "Do Not Email                                     9240 non-null object\n",
      "Do Not Call                                      9240 non-null object\n",
      "Last Activity                                    9137 non-null object\n",
      "Country                                          6779 non-null object\n",
      "Specialization                                   5860 non-null object\n",
      "How did you hear about X Education               1990 non-null object\n",
      "What is your current occupation                  6550 non-null object\n",
      "What matters most to you in choosing a course    6531 non-null object\n",
      "Search                                           9240 non-null object\n",
      "Magazine                                         9240 non-null object\n",
      "Newspaper Article                                9240 non-null object\n",
      "X Education Forums                               9240 non-null object\n",
      "Newspaper                                        9240 non-null object\n",
      "Digital Advertisement                            9240 non-null object\n",
      "Through Recommendations                          9240 non-null object\n",
      "Receive More Updates About Our Courses           9240 non-null object\n",
      "Update me on Supply Chain Content                9240 non-null object\n",
      "Get updates on DM Content                        9240 non-null object\n",
      "City                                             5571 non-null object\n",
      "I agree to pay the amount through cheque         9240 non-null object\n",
      "A free copy of Mastering The Interview           9240 non-null object\n",
      "Last Notable Activity                            9240 non-null object\n",
      "dtypes: object(25)\n",
      "memory usage: 1.8+ MB\n"
     ]
    }
   ],
   "source": [
    "leads.select_dtypes(include = \"O\").info()"
   ]
  },
  {
   "cell_type": "code",
   "execution_count": 13,
   "metadata": {
    "colab": {
     "base_uri": "https://localhost:8080/",
     "height": 329
    },
    "colab_type": "code",
    "id": "qKVzd4_1n4Ly",
    "outputId": "18aaf2c4-4f92-4fca-85a6-db6319e08905"
   },
   "outputs": [
    {
     "data": {
      "text/html": [
       "<div>\n",
       "<style scoped>\n",
       "    .dataframe tbody tr th:only-of-type {\n",
       "        vertical-align: middle;\n",
       "    }\n",
       "\n",
       "    .dataframe tbody tr th {\n",
       "        vertical-align: top;\n",
       "    }\n",
       "\n",
       "    .dataframe thead th {\n",
       "        text-align: right;\n",
       "    }\n",
       "</style>\n",
       "<table border=\"1\" class=\"dataframe\">\n",
       "  <thead>\n",
       "    <tr style=\"text-align: right;\">\n",
       "      <th></th>\n",
       "      <th>Prospect ID</th>\n",
       "      <th>Lead Origin</th>\n",
       "      <th>Lead Source</th>\n",
       "      <th>Do Not Email</th>\n",
       "      <th>Do Not Call</th>\n",
       "      <th>Last Activity</th>\n",
       "      <th>Country</th>\n",
       "      <th>Specialization</th>\n",
       "      <th>How did you hear about X Education</th>\n",
       "      <th>What is your current occupation</th>\n",
       "      <th>...</th>\n",
       "      <th>Newspaper</th>\n",
       "      <th>Digital Advertisement</th>\n",
       "      <th>Through Recommendations</th>\n",
       "      <th>Receive More Updates About Our Courses</th>\n",
       "      <th>Update me on Supply Chain Content</th>\n",
       "      <th>Get updates on DM Content</th>\n",
       "      <th>City</th>\n",
       "      <th>I agree to pay the amount through cheque</th>\n",
       "      <th>A free copy of Mastering The Interview</th>\n",
       "      <th>Last Notable Activity</th>\n",
       "    </tr>\n",
       "  </thead>\n",
       "  <tbody>\n",
       "    <tr>\n",
       "      <th>count</th>\n",
       "      <td>9240</td>\n",
       "      <td>9240</td>\n",
       "      <td>9204</td>\n",
       "      <td>9240</td>\n",
       "      <td>9240</td>\n",
       "      <td>9137</td>\n",
       "      <td>6779</td>\n",
       "      <td>5860</td>\n",
       "      <td>1990</td>\n",
       "      <td>6550</td>\n",
       "      <td>...</td>\n",
       "      <td>9240</td>\n",
       "      <td>9240</td>\n",
       "      <td>9240</td>\n",
       "      <td>9240</td>\n",
       "      <td>9240</td>\n",
       "      <td>9240</td>\n",
       "      <td>5571</td>\n",
       "      <td>9240</td>\n",
       "      <td>9240</td>\n",
       "      <td>9240</td>\n",
       "    </tr>\n",
       "    <tr>\n",
       "      <th>unique</th>\n",
       "      <td>9240</td>\n",
       "      <td>5</td>\n",
       "      <td>21</td>\n",
       "      <td>2</td>\n",
       "      <td>2</td>\n",
       "      <td>17</td>\n",
       "      <td>38</td>\n",
       "      <td>18</td>\n",
       "      <td>9</td>\n",
       "      <td>6</td>\n",
       "      <td>...</td>\n",
       "      <td>2</td>\n",
       "      <td>2</td>\n",
       "      <td>2</td>\n",
       "      <td>1</td>\n",
       "      <td>1</td>\n",
       "      <td>1</td>\n",
       "      <td>6</td>\n",
       "      <td>1</td>\n",
       "      <td>2</td>\n",
       "      <td>16</td>\n",
       "    </tr>\n",
       "    <tr>\n",
       "      <th>top</th>\n",
       "      <td>a4710cf2-6656-472e-bf12-b95e24d7d567</td>\n",
       "      <td>Landing Page Submission</td>\n",
       "      <td>Google</td>\n",
       "      <td>No</td>\n",
       "      <td>No</td>\n",
       "      <td>Email Opened</td>\n",
       "      <td>India</td>\n",
       "      <td>Finance Management</td>\n",
       "      <td>Online Search</td>\n",
       "      <td>Unemployed</td>\n",
       "      <td>...</td>\n",
       "      <td>No</td>\n",
       "      <td>No</td>\n",
       "      <td>No</td>\n",
       "      <td>No</td>\n",
       "      <td>No</td>\n",
       "      <td>No</td>\n",
       "      <td>Mumbai</td>\n",
       "      <td>No</td>\n",
       "      <td>No</td>\n",
       "      <td>Modified</td>\n",
       "    </tr>\n",
       "    <tr>\n",
       "      <th>freq</th>\n",
       "      <td>1</td>\n",
       "      <td>4886</td>\n",
       "      <td>2868</td>\n",
       "      <td>8506</td>\n",
       "      <td>9238</td>\n",
       "      <td>3437</td>\n",
       "      <td>6492</td>\n",
       "      <td>976</td>\n",
       "      <td>808</td>\n",
       "      <td>5600</td>\n",
       "      <td>...</td>\n",
       "      <td>9239</td>\n",
       "      <td>9236</td>\n",
       "      <td>9233</td>\n",
       "      <td>9240</td>\n",
       "      <td>9240</td>\n",
       "      <td>9240</td>\n",
       "      <td>3222</td>\n",
       "      <td>9240</td>\n",
       "      <td>6352</td>\n",
       "      <td>3407</td>\n",
       "    </tr>\n",
       "  </tbody>\n",
       "</table>\n",
       "<p>4 rows × 25 columns</p>\n",
       "</div>"
      ],
      "text/plain": [
       "                                 Prospect ID              Lead Origin  \\\n",
       "count                                   9240                     9240   \n",
       "unique                                  9240                        5   \n",
       "top     a4710cf2-6656-472e-bf12-b95e24d7d567  Landing Page Submission   \n",
       "freq                                       1                     4886   \n",
       "\n",
       "       Lead Source Do Not Email Do Not Call Last Activity Country  \\\n",
       "count         9204         9240        9240          9137    6779   \n",
       "unique          21            2           2            17      38   \n",
       "top         Google           No          No  Email Opened   India   \n",
       "freq          2868         8506        9238          3437    6492   \n",
       "\n",
       "            Specialization How did you hear about X Education  \\\n",
       "count                 5860                               1990   \n",
       "unique                  18                                  9   \n",
       "top     Finance Management                      Online Search   \n",
       "freq                   976                                808   \n",
       "\n",
       "       What is your current occupation          ...          Newspaper  \\\n",
       "count                             6550          ...               9240   \n",
       "unique                               6          ...                  2   \n",
       "top                         Unemployed          ...                 No   \n",
       "freq                              5600          ...               9239   \n",
       "\n",
       "       Digital Advertisement Through Recommendations  \\\n",
       "count                   9240                    9240   \n",
       "unique                     2                       2   \n",
       "top                       No                      No   \n",
       "freq                    9236                    9233   \n",
       "\n",
       "       Receive More Updates About Our Courses  \\\n",
       "count                                    9240   \n",
       "unique                                      1   \n",
       "top                                        No   \n",
       "freq                                     9240   \n",
       "\n",
       "       Update me on Supply Chain Content Get updates on DM Content    City  \\\n",
       "count                               9240                      9240    5571   \n",
       "unique                                 1                         1       6   \n",
       "top                                   No                        No  Mumbai   \n",
       "freq                                9240                      9240    3222   \n",
       "\n",
       "       I agree to pay the amount through cheque  \\\n",
       "count                                      9240   \n",
       "unique                                        1   \n",
       "top                                          No   \n",
       "freq                                       9240   \n",
       "\n",
       "       A free copy of Mastering The Interview Last Notable Activity  \n",
       "count                                    9240                  9240  \n",
       "unique                                      2                    16  \n",
       "top                                        No              Modified  \n",
       "freq                                     6352                  3407  \n",
       "\n",
       "[4 rows x 25 columns]"
      ]
     },
     "execution_count": 13,
     "metadata": {},
     "output_type": "execute_result"
    }
   ],
   "source": [
    "leads.select_dtypes(include = \"O\").describe()"
   ]
  },
  {
   "cell_type": "code",
   "execution_count": 14,
   "metadata": {
    "colab": {},
    "colab_type": "code",
    "id": "3DNxcarHn9nU"
   },
   "outputs": [
    {
     "data": {
      "image/png": "[encoded data removed]",
      "text/plain": [
       "<Figure size 1152x1728 with 14 Axes>"
      ]
     },
     "metadata": {
      "needs_background": "light"
     },
     "output_type": "display_data"
    }
   ],
   "source": [
    "# Analysing Binary Variables\n",
    "\n",
    "binary_var =  ['Do Not Email', 'Do Not Call', 'Search', 'Magazine', 'Newspaper Article', 'X Education Forums', \n",
    "            'Newspaper','Digital Advertisement','Through Recommendations','Receive More Updates About Our Courses',\n",
    "            'Update me on Supply Chain Content','Get updates on DM Content',\n",
    "            'I agree to pay the amount through cheque','A free copy of Mastering The Interview']\n",
    "plt.figure(figsize=(16,24))\n",
    "for i in enumerate(binary_var):\n",
    "    plt.subplot(5,3,i[0]+1)\n",
    "    round(leads[i[1]].value_counts(dropna=False,normalize=True)*100,2).plot(kind = \"bar\", title =i[1])"
   ]
  },
  {
   "cell_type": "code",
   "execution_count": 15,
   "metadata": {},
   "outputs": [],
   "source": [
    "#From above plot we can see that all binary variables except 'A free copy of Mastering The Interview' & 'Do Not Email' \n",
    "# are higly skewed and can be dropped\n",
    "binary_var_to_drop =  ['Do Not Call', 'Search', 'Magazine', 'Newspaper Article', 'X Education Forums', \n",
    "            'Newspaper','Digital Advertisement','Through Recommendations','Receive More Updates About Our Courses',\n",
    "            'Update me on Supply Chain Content','Get updates on DM Content',\n",
    "            'I agree to pay the amount through cheque']\n",
    "leads.drop(binary_var_to_drop, axis = 1,inplace=True)"
   ]
  },
  {
   "cell_type": "code",
   "execution_count": 16,
   "metadata": {
    "colab": {
     "base_uri": "https://localhost:8080/",
     "height": 221
    },
    "colab_type": "code",
    "id": "jYmaPIi2oAn1",
    "outputId": "5852eab8-f0db-4520-adb9-3acd759daba1"
   },
   "outputs": [
    {
     "data": {
      "text/plain": [
       "How did you hear about X Education               78.46\n",
       "City                                             39.71\n",
       "Specialization                                   36.58\n",
       "What matters most to you in choosing a course    29.32\n",
       "What is your current occupation                  29.11\n",
       "Country                                          26.63\n",
       "Last Activity                                     1.11\n",
       "Lead Source                                       0.39\n",
       "Last Notable Activity                             0.00\n",
       "A free copy of Mastering The Interview            0.00\n",
       "Do Not Email                                      0.00\n",
       "Lead Origin                                       0.00\n",
       "Prospect ID                                       0.00\n",
       "dtype: float64"
      ]
     },
     "execution_count": 16,
     "metadata": {},
     "output_type": "execute_result"
    }
   ],
   "source": [
    "# Checking for null percentage\n",
    "round(leads.select_dtypes(include = \"O\").isnull().mean().sort_values(ascending = False)*100,2)"
   ]
  },
  {
   "cell_type": "code",
   "execution_count": 17,
   "metadata": {
    "colab": {},
    "colab_type": "code",
    "id": "cgSqoFKS8lp5"
   },
   "outputs": [],
   "source": [
    "# Dropping \"How did you hear about X Education\" as it has 78.46% missing values\n",
    "leads = leads.drop(\"How did you hear about X Education\", axis = 1)"
   ]
  },
  {
   "cell_type": "code",
   "execution_count": 18,
   "metadata": {
    "colab": {},
    "colab_type": "code",
    "id": "QbX5UA4goEAK"
   },
   "outputs": [],
   "source": [
    "# Replacing null values with \"NA\" (Not Available) in variables with null values more than 15%\n",
    "fillna_list = [\"City\", \"Specialization\", \"Country\", \"What is your current occupation\", \"What matters most to you in choosing a course\"]\n",
    "leads[fillna_list] = leads[fillna_list].fillna(\"NA\")"
   ]
  },
  {
   "cell_type": "code",
   "execution_count": 19,
   "metadata": {
    "colab": {},
    "colab_type": "code",
    "id": "LuL3h3sDoHM7"
   },
   "outputs": [],
   "source": [
    "# Replacing null values with the variable's mode value in variables with null values less than 1.5%\n",
    "leads[\"Last Activity\"] = leads[\"Last Activity\"].fillna(leads[\"Last Activity\"].mode()[0])\n",
    "leads[\"Lead Source\"] = leads[\"Lead Source\"].fillna(leads[\"Lead Source\"].mode()[0])"
   ]
  },
  {
   "cell_type": "code",
   "execution_count": 20,
   "metadata": {
    "colab": {
     "base_uri": "https://localhost:8080/",
     "height": 204
    },
    "colab_type": "code",
    "id": "L_3QnkSMoK1X",
    "outputId": "29f2b993-551e-471b-e91a-16970baa08ab"
   },
   "outputs": [
    {
     "data": {
      "text/plain": [
       "Last Notable Activity                            0.0\n",
       "A free copy of Mastering The Interview           0.0\n",
       "City                                             0.0\n",
       "What matters most to you in choosing a course    0.0\n",
       "What is your current occupation                  0.0\n",
       "Specialization                                   0.0\n",
       "Country                                          0.0\n",
       "Last Activity                                    0.0\n",
       "Do Not Email                                     0.0\n",
       "Lead Source                                      0.0\n",
       "Lead Origin                                      0.0\n",
       "Prospect ID                                      0.0\n",
       "dtype: float64"
      ]
     },
     "execution_count": 20,
     "metadata": {},
     "output_type": "execute_result"
    }
   ],
   "source": [
    "# Checking for null percentage\n",
    "round(leads.select_dtypes(include = \"O\").isnull().mean().sort_values(ascending = False)*100,2)"
   ]
  },
  {
   "cell_type": "markdown",
   "metadata": {
    "colab_type": "text",
    "id": "HeaiTpX3oX58"
   },
   "source": [
    "### Categorising less frequent values in Categorical Variables as \"All Others\""
   ]
  },
  {
   "cell_type": "code",
   "execution_count": 21,
   "metadata": {
    "colab": {
     "base_uri": "https://localhost:8080/",
     "height": 536
    },
    "colab_type": "code",
    "id": "1u_lW_h7FA0r",
    "outputId": "47e12139-347c-4e5c-fd3b-f179e03a0020"
   },
   "outputs": [
    {
     "data": {
      "text/plain": [
       "<matplotlib.axes._subplots.AxesSubplot at 0x1a561341c88>"
      ]
     },
     "execution_count": 21,
     "metadata": {},
     "output_type": "execute_result"
    },
    {
     "data": {
      "image/png": "[encoded data removed]",
      "text/plain": [
       "<Figure size 1440x432 with 3 Axes>"
      ]
     },
     "metadata": {
      "needs_background": "light"
     },
     "output_type": "display_data"
    }
   ],
   "source": [
    "# Plotting value counts for each categorical variable\n",
    "plt.figure(figsize=(20,6))\n",
    "plt.subplot(1,3,1)\n",
    "leads[\"Lead Origin\"].value_counts().plot(kind = \"bar\", title = \"Lead Origin\")\n",
    "plt.subplot(1,3,2)\n",
    "leads[\"Lead Source\"].value_counts().plot(kind = \"bar\", title = \"Lead Source\")\n",
    "plt.subplot(1,3,3)\n",
    "leads[\"Last Activity\"].value_counts().plot(kind = \"bar\", title = \"Last Activity\")"
   ]
  },
  {
   "cell_type": "code",
   "execution_count": 22,
   "metadata": {
    "colab": {},
    "colab_type": "code",
    "id": "0H_cQAW7_rD9"
   },
   "outputs": [],
   "source": [
    "# Categorising less frequent values in \"Lead Origin\" as \"All Others\"\n",
    "leads.loc[~(leads[\"Lead Origin\"].isin([\"Landing Page Submission\", \"API\", \"Lead Add Form\"])) , \"Lead Origin\"] = \"All Others\"\n",
    "\n",
    "# Categorising less frequent values in \"Lead Source\" as \"All Others\"\n",
    "leads.loc[~(leads[\"Lead Source\"].isin([\"Google\", \"Direct Traffic\", \"Olark Chat\", \"Organic Search\", \"Reference\"])) , \"Lead Source\"] = \"All Others\"\n",
    "\n",
    "# Categorising less frequent values in \"Last Activity\" as \"All Others\"\n",
    "leads.loc[~(leads[\"Last Activity\"].isin([\"Email Opened\", \"SMS Sent\", \"Olark Chat Conversation\", \"Page Visited on Website\", \"Converted to Lead\", \"Email Bounced\", \"Email Link Clicked\"])) , \"Last Activity\"] = \"All Others\""
   ]
  },
  {
   "cell_type": "code",
   "execution_count": 23,
   "metadata": {
    "colab": {
     "base_uri": "https://localhost:8080/",
     "height": 575
    },
    "colab_type": "code",
    "id": "Ob1TQ7NDFJvS",
    "outputId": "f4ccfbd9-efc4-4f69-e8ff-5209a55214cc"
   },
   "outputs": [
    {
     "data": {
      "text/plain": [
       "<matplotlib.axes._subplots.AxesSubplot at 0x1a5614ae0b8>"
      ]
     },
     "execution_count": 23,
     "metadata": {},
     "output_type": "execute_result"
    },
    {
     "data": {
      "image/png": "[encoded data removed]",
      "text/plain": [
       "<Figure size 1440x432 with 3 Axes>"
      ]
     },
     "metadata": {
      "needs_background": "light"
     },
     "output_type": "display_data"
    }
   ],
   "source": [
    "# Plotting value counts for each categorical variable\n",
    "plt.figure(figsize=(20,6))\n",
    "plt.subplot(1,3,1)\n",
    "leads[\"Specialization\"].value_counts().plot(kind = \"bar\", title = \"Specialization\")\n",
    "plt.subplot(1,3,2)\n",
    "leads[\"What is your current occupation\"].value_counts().plot(kind = \"bar\", title = \"What is your current occupation\")\n",
    "plt.subplot(1,3,3)\n",
    "leads[\"What matters most to you in choosing a course\"].value_counts().plot(kind = \"bar\", title = \"What matters most to you in choosing a course\")"
   ]
  },
  {
   "cell_type": "code",
   "execution_count": 24,
   "metadata": {
    "colab": {},
    "colab_type": "code",
    "id": "zLxAC1NgAgHv"
   },
   "outputs": [],
   "source": [
    "# Categorising less frequent values in \"Specialization\" as \"All Others\"\n",
    "leads.loc[~(leads[\"Specialization\"].isin([\"Select\", \"NA\", \"Finance Management\", \"Human Resource Management\", \"Marketing Management\",\"Operations Management\",\"Business Administration\",\"IT Projects Management\",\"Supply Chain Management\",\"Banking, Investment And Insurance\"])) , \"Specialization\"] = \"All Others\"\n",
    "\n",
    "# Categorising less frequent values in \"What is your current occupation\" as \"All Others\"\n",
    "leads.loc[~(leads[\"What is your current occupation\"].isin([\"Unemployed\", \"NA\", \"Working Professional\"])) , \"What is your current occupation\"] = \"All Others\"\n",
    "\n",
    "# Categorising less frequent values in \"What matters most to you in choosing a course\" as \"NA\"\n",
    "leads.loc[~(leads[\"What matters most to you in choosing a course\"].isin([\"Better Career Prospects\", \"NA\"])) , \"What matters most to you in choosing a course\"] = \"NA\""
   ]
  },
  {
   "cell_type": "code",
   "execution_count": 25,
   "metadata": {
    "colab": {
     "base_uri": "https://localhost:8080/",
     "height": 536
    },
    "colab_type": "code",
    "id": "Y0Ds4mVUFo7N",
    "outputId": "af5b3499-9bc5-4659-ac1f-2a687bbc6b26"
   },
   "outputs": [
    {
     "data": {
      "text/plain": [
       "<matplotlib.axes._subplots.AxesSubplot at 0x1a560786208>"
      ]
     },
     "execution_count": 25,
     "metadata": {},
     "output_type": "execute_result"
    },
    {
     "data": {
      "image/png": "[encoded data removed]",
      "text/plain": [
       "<Figure size 1440x432 with 3 Axes>"
      ]
     },
     "metadata": {
      "needs_background": "light"
     },
     "output_type": "display_data"
    }
   ],
   "source": [
    "# Plotting value counts for each categorical variable\n",
    "plt.figure(figsize=(20,6))\n",
    "plt.subplot(1,3,1)\n",
    "leads[\"Country\"].value_counts().plot(kind = \"bar\", title = \"Country\")\n",
    "plt.subplot(1,3,2)\n",
    "leads[\"Last Notable Activity\"].value_counts().plot(kind = \"bar\", title = \"Last Notable Activity\")\n",
    "plt.subplot(1,3,3)\n",
    "leads[\"City\"].value_counts().plot(kind = \"bar\", title = \"City\")"
   ]
  },
  {
   "cell_type": "code",
   "execution_count": 26,
   "metadata": {
    "colab": {},
    "colab_type": "code",
    "id": "THJljCtEBBxy"
   },
   "outputs": [],
   "source": [
    "# Categorising less frequent values in \"Country\" as \"All Others\"\n",
    "leads.loc[~(leads[\"Country\"].isin([\"India\", \"NA\"])) , \"Country\"] = \"All Others\"\n",
    "\n",
    "# Categorising less frequent values in \"Last Notable Activity\" as \"All Others\"\n",
    "leads.loc[~(leads[\"Last Notable Activity\"].isin([\"Modified\", \"Email Opened\", \"SMS Sent\",\"Page Visited on Website\"])) , \"Last Notable Activity\"] = \"All Others\""
   ]
  },
  {
   "cell_type": "markdown",
   "metadata": {
    "colab_type": "text",
    "id": "qwrUjZzeG7it"
   },
   "source": [
    "## Bivariate Analysis\n",
    "### Checking the proportion of the target variable (\"Converted\") for each categorical variable"
   ]
  },
  {
   "cell_type": "code",
   "execution_count": 27,
   "metadata": {
    "colab": {
     "base_uri": "https://localhost:8080/",
     "height": 523
    },
    "colab_type": "code",
    "id": "Nuj5sTkhGNbZ",
    "outputId": "9b1b718f-f812-4126-dcb8-f1a9f4fdbfdb"
   },
   "outputs": [
    {
     "data": {
      "text/plain": [
       "<matplotlib.axes._subplots.AxesSubplot at 0x1a56086c0b8>"
      ]
     },
     "execution_count": 27,
     "metadata": {},
     "output_type": "execute_result"
    },
    {
     "data": {
      "image/png": "[encoded data removed]",
      "text/plain": [
       "<Figure size 1440x432 with 3 Axes>"
      ]
     },
     "metadata": {
      "needs_background": "light"
     },
     "output_type": "display_data"
    }
   ],
   "source": [
    "plt.figure(figsize=(20,6))\n",
    "ax1 = plt.subplot(1,3,1)\n",
    "leads.groupby(\"Lead Origin\").agg({\"Converted\": \"mean\"}).sort_values('Converted', ascending=False).plot(kind = \"bar\", ax = ax1)\n",
    "ax2 = plt.subplot(1,3,2)\n",
    "leads.groupby(\"Lead Source\").agg({\"Converted\": \"mean\"}).sort_values('Converted', ascending=False).plot(kind = \"bar\", ax = ax2)\n",
    "ax3 = plt.subplot(1,3,3)\n",
    "leads.groupby(\"Last Activity\").agg({\"Converted\": \"mean\"}).sort_values('Converted', ascending=False).plot(kind = \"bar\", ax = ax3)"
   ]
  },
  {
   "cell_type": "code",
   "execution_count": 28,
   "metadata": {
    "colab": {
     "base_uri": "https://localhost:8080/",
     "height": 573
    },
    "colab_type": "code",
    "id": "3o6m2xDHGOJu",
    "outputId": "280098f9-d381-4ac0-fc53-cb8100f7dddc"
   },
   "outputs": [
    {
     "data": {
      "text/plain": [
       "<matplotlib.axes._subplots.AxesSubplot at 0x1a56072ff60>"
      ]
     },
     "execution_count": 28,
     "metadata": {},
     "output_type": "execute_result"
    },
    {
     "data": {
      "image/png": "[encoded data removed]",
      "text/plain": [
       "<Figure size 1440x432 with 3 Axes>"
      ]
     },
     "metadata": {
      "needs_background": "light"
     },
     "output_type": "display_data"
    }
   ],
   "source": [
    "plt.figure(figsize=(20,6))\n",
    "ax1 = plt.subplot(1,3,1)\n",
    "leads.groupby(\"Specialization\").agg({\"Converted\": \"mean\"}).sort_values('Converted', ascending=False).plot(kind = \"bar\", ax = ax1)\n",
    "ax2 = plt.subplot(1,3,2)\n",
    "leads.groupby(\"What is your current occupation\").agg({\"Converted\": \"mean\"}).sort_values('Converted', ascending=False).plot(kind = \"bar\", ax = ax2)\n",
    "ax3 = plt.subplot(1,3,3)\n",
    "leads.groupby(\"What matters most to you in choosing a course\").agg({\"Converted\": \"mean\"}).sort_values('Converted', ascending=False).plot(kind = \"bar\", ax = ax3)"
   ]
  },
  {
   "cell_type": "code",
   "execution_count": 29,
   "metadata": {
    "colab": {
     "base_uri": "https://localhost:8080/",
     "height": 533
    },
    "colab_type": "code",
    "id": "2BOeefEWGO-G",
    "outputId": "8ee6081b-36b2-4fbd-80cd-5ce94bf5fd3f"
   },
   "outputs": [
    {
     "data": {
      "text/plain": [
       "<matplotlib.axes._subplots.AxesSubplot at 0x1a5615fa978>"
      ]
     },
     "execution_count": 29,
     "metadata": {},
     "output_type": "execute_result"
    },
    {
     "data": {
      "image/png": "[encoded data removed]",
      "text/plain": [
       "<Figure size 1440x432 with 3 Axes>"
      ]
     },
     "metadata": {
      "needs_background": "light"
     },
     "output_type": "display_data"
    }
   ],
   "source": [
    "plt.figure(figsize=(20,6))\n",
    "ax1 = plt.subplot(1,3,1)\n",
    "leads.groupby(\"Country\").agg({\"Converted\": \"mean\"}).sort_values('Converted', ascending=False).plot(kind = \"bar\", ax = ax1)\n",
    "ax2 = plt.subplot(1,3,2)\n",
    "leads.groupby(\"Last Notable Activity\").agg({\"Converted\": \"mean\"}).sort_values('Converted', ascending=False).plot(kind = \"bar\", ax = ax2)\n",
    "ax3 = plt.subplot(1,3,3)\n",
    "leads.groupby(\"City\").agg({\"Converted\": \"mean\"}).sort_values('Converted', ascending=False).plot(kind = \"bar\", ax = ax3)"
   ]
  },
  {
   "cell_type": "markdown",
   "metadata": {
    "colab_type": "text",
    "id": "1z71eDf3HShN"
   },
   "source": [
    "### Investigating numeric variables\n"
   ]
  },
  {
   "cell_type": "code",
   "execution_count": 30,
   "metadata": {
    "colab": {
     "base_uri": "https://localhost:8080/",
     "height": 357
    },
    "colab_type": "code",
    "id": "mRUgkk3bGOqy",
    "outputId": "3c6d4aee-7a0a-4317-fb36-a402f9747aec"
   },
   "outputs": [
    {
     "data": {
      "text/html": [
       "<div>\n",
       "<style scoped>\n",
       "    .dataframe tbody tr th:only-of-type {\n",
       "        vertical-align: middle;\n",
       "    }\n",
       "\n",
       "    .dataframe tbody tr th {\n",
       "        vertical-align: top;\n",
       "    }\n",
       "\n",
       "    .dataframe thead th {\n",
       "        text-align: right;\n",
       "    }\n",
       "</style>\n",
       "<table border=\"1\" class=\"dataframe\">\n",
       "  <thead>\n",
       "    <tr style=\"text-align: right;\">\n",
       "      <th></th>\n",
       "      <th>Converted</th>\n",
       "      <th>TotalVisits</th>\n",
       "      <th>Total Time Spent on Website</th>\n",
       "      <th>Page Views Per Visit</th>\n",
       "    </tr>\n",
       "    <tr>\n",
       "      <th>Lead Number</th>\n",
       "      <th></th>\n",
       "      <th></th>\n",
       "      <th></th>\n",
       "      <th></th>\n",
       "    </tr>\n",
       "  </thead>\n",
       "  <tbody>\n",
       "    <tr>\n",
       "      <th>660737</th>\n",
       "      <td>0</td>\n",
       "      <td>0.0</td>\n",
       "      <td>0</td>\n",
       "      <td>0.0</td>\n",
       "    </tr>\n",
       "    <tr>\n",
       "      <th>660728</th>\n",
       "      <td>0</td>\n",
       "      <td>5.0</td>\n",
       "      <td>674</td>\n",
       "      <td>2.5</td>\n",
       "    </tr>\n",
       "    <tr>\n",
       "      <th>660727</th>\n",
       "      <td>1</td>\n",
       "      <td>2.0</td>\n",
       "      <td>1532</td>\n",
       "      <td>2.0</td>\n",
       "    </tr>\n",
       "    <tr>\n",
       "      <th>660719</th>\n",
       "      <td>0</td>\n",
       "      <td>1.0</td>\n",
       "      <td>305</td>\n",
       "      <td>1.0</td>\n",
       "    </tr>\n",
       "    <tr>\n",
       "      <th>660681</th>\n",
       "      <td>1</td>\n",
       "      <td>2.0</td>\n",
       "      <td>1428</td>\n",
       "      <td>1.0</td>\n",
       "    </tr>\n",
       "  </tbody>\n",
       "</table>\n",
       "</div>"
      ],
      "text/plain": [
       "             Converted  TotalVisits  Total Time Spent on Website  \\\n",
       "Lead Number                                                        \n",
       "660737               0          0.0                            0   \n",
       "660728               0          5.0                          674   \n",
       "660727               1          2.0                         1532   \n",
       "660719               0          1.0                          305   \n",
       "660681               1          2.0                         1428   \n",
       "\n",
       "             Page Views Per Visit  \n",
       "Lead Number                        \n",
       "660737                        0.0  \n",
       "660728                        2.5  \n",
       "660727                        2.0  \n",
       "660719                        1.0  \n",
       "660681                        1.0  "
      ]
     },
     "execution_count": 30,
     "metadata": {},
     "output_type": "execute_result"
    }
   ],
   "source": [
    "leads.select_dtypes(exclude = \"O\").head()"
   ]
  },
  {
   "cell_type": "code",
   "execution_count": 31,
   "metadata": {
    "colab": {
     "base_uri": "https://localhost:8080/",
     "height": 442
    },
    "colab_type": "code",
    "id": "h4Lfbjk-GN2V",
    "outputId": "f93d9de4-430d-40f3-b4f3-83fd809e3375"
   },
   "outputs": [
    {
     "name": "stdout",
     "output_type": "stream",
     "text": [
      "<class 'pandas.core.frame.DataFrame'>\n",
      "Int64Index: 9240 entries, 660737 to 579533\n",
      "Data columns (total 4 columns):\n",
      "Converted                      9240 non-null int64\n",
      "TotalVisits                    9103 non-null float64\n",
      "Total Time Spent on Website    9240 non-null int64\n",
      "Page Views Per Visit           9103 non-null float64\n",
      "dtypes: float64(2), int64(2)\n",
      "memory usage: 360.9 KB\n"
     ]
    }
   ],
   "source": [
    "leads.select_dtypes(exclude = \"O\").info()"
   ]
  },
  {
   "cell_type": "code",
   "execution_count": 32,
   "metadata": {
    "colab": {
     "base_uri": "https://localhost:8080/",
     "height": 402
    },
    "colab_type": "code",
    "id": "lyzaevORGNyT",
    "outputId": "2747524c-8102-4611-84c9-a834cdffe716"
   },
   "outputs": [
    {
     "data": {
      "text/html": [
       "<div>\n",
       "<style scoped>\n",
       "    .dataframe tbody tr th:only-of-type {\n",
       "        vertical-align: middle;\n",
       "    }\n",
       "\n",
       "    .dataframe tbody tr th {\n",
       "        vertical-align: top;\n",
       "    }\n",
       "\n",
       "    .dataframe thead th {\n",
       "        text-align: right;\n",
       "    }\n",
       "</style>\n",
       "<table border=\"1\" class=\"dataframe\">\n",
       "  <thead>\n",
       "    <tr style=\"text-align: right;\">\n",
       "      <th></th>\n",
       "      <th>Converted</th>\n",
       "      <th>TotalVisits</th>\n",
       "      <th>Total Time Spent on Website</th>\n",
       "      <th>Page Views Per Visit</th>\n",
       "    </tr>\n",
       "  </thead>\n",
       "  <tbody>\n",
       "    <tr>\n",
       "      <th>count</th>\n",
       "      <td>9240.000000</td>\n",
       "      <td>9103.000000</td>\n",
       "      <td>9240.000000</td>\n",
       "      <td>9103.000000</td>\n",
       "    </tr>\n",
       "    <tr>\n",
       "      <th>mean</th>\n",
       "      <td>0.385390</td>\n",
       "      <td>3.445238</td>\n",
       "      <td>487.698268</td>\n",
       "      <td>2.362820</td>\n",
       "    </tr>\n",
       "    <tr>\n",
       "      <th>std</th>\n",
       "      <td>0.486714</td>\n",
       "      <td>4.854853</td>\n",
       "      <td>548.021466</td>\n",
       "      <td>2.161418</td>\n",
       "    </tr>\n",
       "    <tr>\n",
       "      <th>min</th>\n",
       "      <td>0.000000</td>\n",
       "      <td>0.000000</td>\n",
       "      <td>0.000000</td>\n",
       "      <td>0.000000</td>\n",
       "    </tr>\n",
       "    <tr>\n",
       "      <th>25%</th>\n",
       "      <td>0.000000</td>\n",
       "      <td>1.000000</td>\n",
       "      <td>12.000000</td>\n",
       "      <td>1.000000</td>\n",
       "    </tr>\n",
       "    <tr>\n",
       "      <th>50%</th>\n",
       "      <td>0.000000</td>\n",
       "      <td>3.000000</td>\n",
       "      <td>248.000000</td>\n",
       "      <td>2.000000</td>\n",
       "    </tr>\n",
       "    <tr>\n",
       "      <th>75%</th>\n",
       "      <td>1.000000</td>\n",
       "      <td>5.000000</td>\n",
       "      <td>936.000000</td>\n",
       "      <td>3.000000</td>\n",
       "    </tr>\n",
       "    <tr>\n",
       "      <th>max</th>\n",
       "      <td>1.000000</td>\n",
       "      <td>251.000000</td>\n",
       "      <td>2272.000000</td>\n",
       "      <td>55.000000</td>\n",
       "    </tr>\n",
       "  </tbody>\n",
       "</table>\n",
       "</div>"
      ],
      "text/plain": [
       "         Converted  TotalVisits  Total Time Spent on Website  \\\n",
       "count  9240.000000  9103.000000                  9240.000000   \n",
       "mean      0.385390     3.445238                   487.698268   \n",
       "std       0.486714     4.854853                   548.021466   \n",
       "min       0.000000     0.000000                     0.000000   \n",
       "25%       0.000000     1.000000                    12.000000   \n",
       "50%       0.000000     3.000000                   248.000000   \n",
       "75%       1.000000     5.000000                   936.000000   \n",
       "max       1.000000   251.000000                  2272.000000   \n",
       "\n",
       "       Page Views Per Visit  \n",
       "count           9103.000000  \n",
       "mean               2.362820  \n",
       "std                2.161418  \n",
       "min                0.000000  \n",
       "25%                1.000000  \n",
       "50%                2.000000  \n",
       "75%                3.000000  \n",
       "max               55.000000  "
      ]
     },
     "execution_count": 32,
     "metadata": {},
     "output_type": "execute_result"
    }
   ],
   "source": [
    "leads.select_dtypes(exclude = \"O\").describe()"
   ]
  },
  {
   "cell_type": "code",
   "execution_count": 33,
   "metadata": {
    "colab": {
     "base_uri": "https://localhost:8080/",
     "height": 340
    },
    "colab_type": "code",
    "id": "DgrtG5bWGNuo",
    "outputId": "ace9164e-7a36-48ff-de20-f1cc78772932"
   },
   "outputs": [
    {
     "data": {
      "text/plain": [
       "Page Views Per Visit           1.48\n",
       "TotalVisits                    1.48\n",
       "Total Time Spent on Website    0.00\n",
       "Converted                      0.00\n",
       "dtype: float64"
      ]
     },
     "execution_count": 33,
     "metadata": {},
     "output_type": "execute_result"
    }
   ],
   "source": [
    "round(leads.select_dtypes(exclude = \"O\").isnull().mean().sort_values(ascending = False)*100,2)"
   ]
  },
  {
   "cell_type": "code",
   "execution_count": 34,
   "metadata": {
    "colab": {},
    "colab_type": "code",
    "id": "wdVtAHhUGNDk"
   },
   "outputs": [],
   "source": [
    "# Replacing null values with the column average in columns with around 1% null values\n",
    "leads[\"TotalVisits\"] = leads[\"TotalVisits\"].fillna(leads[\"TotalVisits\"].mean())\n",
    "leads[\"Page Views Per Visit\"] = leads[\"Page Views Per Visit\"].fillna(leads[\"Page Views Per Visit\"].mean())"
   ]
  },
  {
   "cell_type": "code",
   "execution_count": 35,
   "metadata": {
    "colab": {
     "base_uri": "https://localhost:8080/",
     "height": 340
    },
    "colab_type": "code",
    "id": "2L8hZSMaHiNJ",
    "outputId": "2abb631e-5094-424a-adf9-a7a48e7c2714"
   },
   "outputs": [
    {
     "data": {
      "text/plain": [
       "Converted                         2\n",
       "TotalVisits                      42\n",
       "Page Views Per Visit            115\n",
       "Total Time Spent on Website    1731\n",
       "dtype: int64"
      ]
     },
     "execution_count": 35,
     "metadata": {},
     "output_type": "execute_result"
    }
   ],
   "source": [
    "leads.select_dtypes(exclude = \"O\").nunique().sort_values()"
   ]
  },
  {
   "cell_type": "code",
   "execution_count": 36,
   "metadata": {
    "colab": {},
    "colab_type": "code",
    "id": "5rmj-ecbHjoH"
   },
   "outputs": [],
   "source": [
    "# Adding 'Prospect ID' and 'Lead Number' to cols_to_drop\n",
    "cols_to_drop = [\"Prospect ID\"]"
   ]
  },
  {
   "cell_type": "code",
   "execution_count": 37,
   "metadata": {
    "colab": {},
    "colab_type": "code",
    "id": "6vrGBNx3HkOo"
   },
   "outputs": [],
   "source": [
    "# Dropping columns added to cols_to_drop \n",
    "leads1 = leads.drop(cols_to_drop, axis = 1)"
   ]
  },
  {
   "cell_type": "code",
   "execution_count": 38,
   "metadata": {
    "colab": {
     "base_uri": "https://localhost:8080/",
     "height": 507
    },
    "colab_type": "code",
    "id": "DjXXVeIYHkis",
    "outputId": "6afb2d1f-7a27-4b59-8562-e1c88970cd6d"
   },
   "outputs": [
    {
     "data": {
      "text/html": [
       "<div>\n",
       "<style scoped>\n",
       "    .dataframe tbody tr th:only-of-type {\n",
       "        vertical-align: middle;\n",
       "    }\n",
       "\n",
       "    .dataframe tbody tr th {\n",
       "        vertical-align: top;\n",
       "    }\n",
       "\n",
       "    .dataframe thead th {\n",
       "        text-align: right;\n",
       "    }\n",
       "</style>\n",
       "<table border=\"1\" class=\"dataframe\">\n",
       "  <thead>\n",
       "    <tr style=\"text-align: right;\">\n",
       "      <th></th>\n",
       "      <th>Lead Origin</th>\n",
       "      <th>Lead Source</th>\n",
       "      <th>Do Not Email</th>\n",
       "      <th>Converted</th>\n",
       "      <th>TotalVisits</th>\n",
       "      <th>Total Time Spent on Website</th>\n",
       "      <th>Page Views Per Visit</th>\n",
       "      <th>Last Activity</th>\n",
       "      <th>Country</th>\n",
       "      <th>Specialization</th>\n",
       "      <th>What is your current occupation</th>\n",
       "      <th>What matters most to you in choosing a course</th>\n",
       "      <th>City</th>\n",
       "      <th>A free copy of Mastering The Interview</th>\n",
       "      <th>Last Notable Activity</th>\n",
       "    </tr>\n",
       "    <tr>\n",
       "      <th>Lead Number</th>\n",
       "      <th></th>\n",
       "      <th></th>\n",
       "      <th></th>\n",
       "      <th></th>\n",
       "      <th></th>\n",
       "      <th></th>\n",
       "      <th></th>\n",
       "      <th></th>\n",
       "      <th></th>\n",
       "      <th></th>\n",
       "      <th></th>\n",
       "      <th></th>\n",
       "      <th></th>\n",
       "      <th></th>\n",
       "      <th></th>\n",
       "    </tr>\n",
       "  </thead>\n",
       "  <tbody>\n",
       "    <tr>\n",
       "      <th>660737</th>\n",
       "      <td>API</td>\n",
       "      <td>Olark Chat</td>\n",
       "      <td>No</td>\n",
       "      <td>0</td>\n",
       "      <td>0.0</td>\n",
       "      <td>0</td>\n",
       "      <td>0.0</td>\n",
       "      <td>Page Visited on Website</td>\n",
       "      <td>NA</td>\n",
       "      <td>NA</td>\n",
       "      <td>Unemployed</td>\n",
       "      <td>Better Career Prospects</td>\n",
       "      <td>NA</td>\n",
       "      <td>No</td>\n",
       "      <td>Modified</td>\n",
       "    </tr>\n",
       "    <tr>\n",
       "      <th>660728</th>\n",
       "      <td>API</td>\n",
       "      <td>Organic Search</td>\n",
       "      <td>No</td>\n",
       "      <td>0</td>\n",
       "      <td>5.0</td>\n",
       "      <td>674</td>\n",
       "      <td>2.5</td>\n",
       "      <td>Email Opened</td>\n",
       "      <td>India</td>\n",
       "      <td>NA</td>\n",
       "      <td>Unemployed</td>\n",
       "      <td>Better Career Prospects</td>\n",
       "      <td>NA</td>\n",
       "      <td>No</td>\n",
       "      <td>Email Opened</td>\n",
       "    </tr>\n",
       "    <tr>\n",
       "      <th>660727</th>\n",
       "      <td>Landing Page Submission</td>\n",
       "      <td>Direct Traffic</td>\n",
       "      <td>No</td>\n",
       "      <td>1</td>\n",
       "      <td>2.0</td>\n",
       "      <td>1532</td>\n",
       "      <td>2.0</td>\n",
       "      <td>Email Opened</td>\n",
       "      <td>India</td>\n",
       "      <td>Business Administration</td>\n",
       "      <td>All Others</td>\n",
       "      <td>Better Career Prospects</td>\n",
       "      <td>Mumbai</td>\n",
       "      <td>Yes</td>\n",
       "      <td>Email Opened</td>\n",
       "    </tr>\n",
       "    <tr>\n",
       "      <th>660719</th>\n",
       "      <td>Landing Page Submission</td>\n",
       "      <td>Direct Traffic</td>\n",
       "      <td>No</td>\n",
       "      <td>0</td>\n",
       "      <td>1.0</td>\n",
       "      <td>305</td>\n",
       "      <td>1.0</td>\n",
       "      <td>All Others</td>\n",
       "      <td>India</td>\n",
       "      <td>All Others</td>\n",
       "      <td>Unemployed</td>\n",
       "      <td>Better Career Prospects</td>\n",
       "      <td>Mumbai</td>\n",
       "      <td>No</td>\n",
       "      <td>Modified</td>\n",
       "    </tr>\n",
       "    <tr>\n",
       "      <th>660681</th>\n",
       "      <td>Landing Page Submission</td>\n",
       "      <td>Google</td>\n",
       "      <td>No</td>\n",
       "      <td>1</td>\n",
       "      <td>2.0</td>\n",
       "      <td>1428</td>\n",
       "      <td>1.0</td>\n",
       "      <td>Converted to Lead</td>\n",
       "      <td>India</td>\n",
       "      <td>NA</td>\n",
       "      <td>Unemployed</td>\n",
       "      <td>Better Career Prospects</td>\n",
       "      <td>Mumbai</td>\n",
       "      <td>No</td>\n",
       "      <td>Modified</td>\n",
       "    </tr>\n",
       "  </tbody>\n",
       "</table>\n",
       "</div>"
      ],
      "text/plain": [
       "                         Lead Origin     Lead Source Do Not Email  Converted  \\\n",
       "Lead Number                                                                    \n",
       "660737                           API      Olark Chat           No          0   \n",
       "660728                           API  Organic Search           No          0   \n",
       "660727       Landing Page Submission  Direct Traffic           No          1   \n",
       "660719       Landing Page Submission  Direct Traffic           No          0   \n",
       "660681       Landing Page Submission          Google           No          1   \n",
       "\n",
       "             TotalVisits  Total Time Spent on Website  Page Views Per Visit  \\\n",
       "Lead Number                                                                   \n",
       "660737               0.0                            0                   0.0   \n",
       "660728               5.0                          674                   2.5   \n",
       "660727               2.0                         1532                   2.0   \n",
       "660719               1.0                          305                   1.0   \n",
       "660681               2.0                         1428                   1.0   \n",
       "\n",
       "                       Last Activity Country           Specialization  \\\n",
       "Lead Number                                                             \n",
       "660737       Page Visited on Website      NA                       NA   \n",
       "660728                  Email Opened   India                       NA   \n",
       "660727                  Email Opened   India  Business Administration   \n",
       "660719                    All Others   India               All Others   \n",
       "660681             Converted to Lead   India                       NA   \n",
       "\n",
       "            What is your current occupation  \\\n",
       "Lead Number                                   \n",
       "660737                           Unemployed   \n",
       "660728                           Unemployed   \n",
       "660727                           All Others   \n",
       "660719                           Unemployed   \n",
       "660681                           Unemployed   \n",
       "\n",
       "            What matters most to you in choosing a course    City  \\\n",
       "Lead Number                                                         \n",
       "660737                            Better Career Prospects      NA   \n",
       "660728                            Better Career Prospects      NA   \n",
       "660727                            Better Career Prospects  Mumbai   \n",
       "660719                            Better Career Prospects  Mumbai   \n",
       "660681                            Better Career Prospects  Mumbai   \n",
       "\n",
       "            A free copy of Mastering The Interview Last Notable Activity  \n",
       "Lead Number                                                               \n",
       "660737                                          No              Modified  \n",
       "660728                                          No          Email Opened  \n",
       "660727                                         Yes          Email Opened  \n",
       "660719                                          No              Modified  \n",
       "660681                                          No              Modified  "
      ]
     },
     "execution_count": 38,
     "metadata": {},
     "output_type": "execute_result"
    }
   ],
   "source": [
    "leads1.head()"
   ]
  },
  {
   "cell_type": "code",
   "execution_count": 39,
   "metadata": {
    "colab": {
     "base_uri": "https://localhost:8080/",
     "height": 390
    },
    "colab_type": "code",
    "id": "uSTZqi5qHj9k",
    "outputId": "ec11ab01-a07f-4ba7-a92c-0e8431870840"
   },
   "outputs": [
    {
     "data": {
      "text/plain": [
       "[Text(0, 0.5, ''), Text(0.5, 1.0, 'A free copy of Mastering The Interview')]"
      ]
     },
     "execution_count": 39,
     "metadata": {},
     "output_type": "execute_result"
    },
    {
     "data": {
      "image/png": "[encoded data removed]",
      "text/plain": [
       "<Figure size 1440x432 with 3 Axes>"
      ]
     },
     "metadata": {},
     "output_type": "display_data"
    }
   ],
   "source": [
    "# Plotting pie chart to show the proportion of binary variables\n",
    "plt.figure(figsize=(20,6))\n",
    "plt.subplot(1,3,1)\n",
    "plt.rcParams.update({'font.size': 11})\n",
    "cx = leads1[\"Converted\"].value_counts().plot(kind = \"pie\", autopct='%1.1f%%')\n",
    "cx.set(title = \"Target: Converted\", ylabel = \"\")\n",
    "plt.subplot(1,3,2)\n",
    "ax = leads1[\"Do Not Email\"].value_counts().plot(kind = \"pie\", autopct='%1.1f%%')\n",
    "ax.set(title = \"Do Not Email\", ylabel = \"\")\n",
    "plt.subplot(1,3,3)\n",
    "bx = leads1[\"A free copy of Mastering The Interview\"].value_counts().plot(kind = \"pie\", autopct='%1.1f%%')\n",
    "bx.set(title = \"A free copy of Mastering The Interview\", ylabel = \"\")"
   ]
  },
  {
   "cell_type": "code",
   "execution_count": 40,
   "metadata": {
    "colab": {
     "base_uri": "https://localhost:8080/",
     "height": 421
    },
    "colab_type": "code",
    "id": "DLHs5O4mHjXy",
    "outputId": "5e9f6798-3c46-4b5c-aca8-7da4bcd8a830"
   },
   "outputs": [
    {
     "data": {
      "text/html": [
       "<div>\n",
       "<style scoped>\n",
       "    .dataframe tbody tr th:only-of-type {\n",
       "        vertical-align: middle;\n",
       "    }\n",
       "\n",
       "    .dataframe tbody tr th {\n",
       "        vertical-align: top;\n",
       "    }\n",
       "\n",
       "    .dataframe thead th {\n",
       "        text-align: right;\n",
       "    }\n",
       "</style>\n",
       "<table border=\"1\" class=\"dataframe\">\n",
       "  <thead>\n",
       "    <tr style=\"text-align: right;\">\n",
       "      <th></th>\n",
       "      <th>Converted</th>\n",
       "      <th>TotalVisits</th>\n",
       "      <th>Total Time Spent on Website</th>\n",
       "      <th>Page Views Per Visit</th>\n",
       "    </tr>\n",
       "  </thead>\n",
       "  <tbody>\n",
       "    <tr>\n",
       "      <th>count</th>\n",
       "      <td>9240.000000</td>\n",
       "      <td>9240.000000</td>\n",
       "      <td>9240.000000</td>\n",
       "      <td>9240.000000</td>\n",
       "    </tr>\n",
       "    <tr>\n",
       "      <th>mean</th>\n",
       "      <td>0.385390</td>\n",
       "      <td>3.445238</td>\n",
       "      <td>487.698268</td>\n",
       "      <td>2.362820</td>\n",
       "    </tr>\n",
       "    <tr>\n",
       "      <th>std</th>\n",
       "      <td>0.486714</td>\n",
       "      <td>4.818723</td>\n",
       "      <td>548.021466</td>\n",
       "      <td>2.145333</td>\n",
       "    </tr>\n",
       "    <tr>\n",
       "      <th>min</th>\n",
       "      <td>0.000000</td>\n",
       "      <td>0.000000</td>\n",
       "      <td>0.000000</td>\n",
       "      <td>0.000000</td>\n",
       "    </tr>\n",
       "    <tr>\n",
       "      <th>1%</th>\n",
       "      <td>0.000000</td>\n",
       "      <td>0.000000</td>\n",
       "      <td>0.000000</td>\n",
       "      <td>0.000000</td>\n",
       "    </tr>\n",
       "    <tr>\n",
       "      <th>10%</th>\n",
       "      <td>0.000000</td>\n",
       "      <td>0.000000</td>\n",
       "      <td>0.000000</td>\n",
       "      <td>0.000000</td>\n",
       "    </tr>\n",
       "    <tr>\n",
       "      <th>25%</th>\n",
       "      <td>0.000000</td>\n",
       "      <td>1.000000</td>\n",
       "      <td>12.000000</td>\n",
       "      <td>1.000000</td>\n",
       "    </tr>\n",
       "    <tr>\n",
       "      <th>50%</th>\n",
       "      <td>0.000000</td>\n",
       "      <td>3.000000</td>\n",
       "      <td>248.000000</td>\n",
       "      <td>2.000000</td>\n",
       "    </tr>\n",
       "    <tr>\n",
       "      <th>75%</th>\n",
       "      <td>1.000000</td>\n",
       "      <td>5.000000</td>\n",
       "      <td>936.000000</td>\n",
       "      <td>3.000000</td>\n",
       "    </tr>\n",
       "    <tr>\n",
       "      <th>90%</th>\n",
       "      <td>1.000000</td>\n",
       "      <td>7.000000</td>\n",
       "      <td>1380.000000</td>\n",
       "      <td>5.000000</td>\n",
       "    </tr>\n",
       "    <tr>\n",
       "      <th>99%</th>\n",
       "      <td>1.000000</td>\n",
       "      <td>17.000000</td>\n",
       "      <td>1840.610000</td>\n",
       "      <td>9.000000</td>\n",
       "    </tr>\n",
       "    <tr>\n",
       "      <th>max</th>\n",
       "      <td>1.000000</td>\n",
       "      <td>251.000000</td>\n",
       "      <td>2272.000000</td>\n",
       "      <td>55.000000</td>\n",
       "    </tr>\n",
       "  </tbody>\n",
       "</table>\n",
       "</div>"
      ],
      "text/plain": [
       "         Converted  TotalVisits  Total Time Spent on Website  \\\n",
       "count  9240.000000  9240.000000                  9240.000000   \n",
       "mean      0.385390     3.445238                   487.698268   \n",
       "std       0.486714     4.818723                   548.021466   \n",
       "min       0.000000     0.000000                     0.000000   \n",
       "1%        0.000000     0.000000                     0.000000   \n",
       "10%       0.000000     0.000000                     0.000000   \n",
       "25%       0.000000     1.000000                    12.000000   \n",
       "50%       0.000000     3.000000                   248.000000   \n",
       "75%       1.000000     5.000000                   936.000000   \n",
       "90%       1.000000     7.000000                  1380.000000   \n",
       "99%       1.000000    17.000000                  1840.610000   \n",
       "max       1.000000   251.000000                  2272.000000   \n",
       "\n",
       "       Page Views Per Visit  \n",
       "count           9240.000000  \n",
       "mean               2.362820  \n",
       "std                2.145333  \n",
       "min                0.000000  \n",
       "1%                 0.000000  \n",
       "10%                0.000000  \n",
       "25%                1.000000  \n",
       "50%                2.000000  \n",
       "75%                3.000000  \n",
       "90%                5.000000  \n",
       "99%                9.000000  \n",
       "max               55.000000  "
      ]
     },
     "execution_count": 40,
     "metadata": {},
     "output_type": "execute_result"
    }
   ],
   "source": [
    "leads1.select_dtypes(exclude = \"O\").describe([0.01, 0.1, 0.25, 0.5, 0.75, 0.9, 0.99])"
   ]
  },
  {
   "cell_type": "code",
   "execution_count": 41,
   "metadata": {
    "colab": {
     "base_uri": "https://localhost:8080/",
     "height": 378
    },
    "colab_type": "code",
    "id": "9CBUK19yHiwA",
    "outputId": "3387495c-0bab-44a5-aec8-7285dc162ae5"
   },
   "outputs": [
    {
     "data": {
      "text/plain": [
       "<matplotlib.axes._subplots.AxesSubplot at 0x1a5620ef358>"
      ]
     },
     "execution_count": 41,
     "metadata": {},
     "output_type": "execute_result"
    },
    {
     "data": {
      "image/png": "[encoded data removed]",
      "text/plain": [
       "<Figure size 1440x432 with 3 Axes>"
      ]
     },
     "metadata": {
      "needs_background": "light"
     },
     "output_type": "display_data"
    }
   ],
   "source": [
    "# Visualising numeric variables and checking for outliers\n",
    "plt.figure(figsize=(20,6))\n",
    "plt.subplot(1,3,1)\n",
    "sns.boxplot( y = \"TotalVisits\", data = leads1)\n",
    "plt.subplot(1,3,2)\n",
    "sns.boxplot( y = \"Page Views Per Visit\", data = leads1)\n",
    "plt.subplot(1,3,3)\n",
    "sns.boxplot( y = \"Total Time Spent on Website\", data = leads1)"
   ]
  },
  {
   "cell_type": "code",
   "execution_count": 42,
   "metadata": {
    "colab": {},
    "colab_type": "code",
    "id": "wgR1AW66HhpL"
   },
   "outputs": [],
   "source": [
    "# Capping outliers above the upper whisker in \"TotalVisits\" and \"Page Views Per Visit\"\n",
    "clip_cols = [\"TotalVisits\",\"Page Views Per Visit\"]\n",
    "leads1[clip_cols] = leads1[clip_cols].clip(upper = leads1[clip_cols].quantile(0.99),axis =1 )"
   ]
  },
  {
   "cell_type": "code",
   "execution_count": 43,
   "metadata": {
    "colab": {
     "base_uri": "https://localhost:8080/",
     "height": 1000
    },
    "colab_type": "code",
    "id": "uMdu1-p3HhL_",
    "outputId": "248a979d-5ee7-41f6-f708-de6412671e2f"
   },
   "outputs": [
    {
     "data": {
      "text/plain": [
       "<seaborn.axisgrid.PairGrid at 0x1a5620c1278>"
      ]
     },
     "execution_count": 43,
     "metadata": {},
     "output_type": "execute_result"
    },
    {
     "data": {
      "image/png": "[encoded data removed]",
      "text/plain": [
       "<Figure size 720x720 with 20 Axes>"
      ]
     },
     "metadata": {
      "needs_background": "light"
     },
     "output_type": "display_data"
    }
   ],
   "source": [
    "# Plotting pairplots to check correlations between numeric varibales\n",
    "sns.pairplot(leads1[[\"Converted\",\"Do Not Email\",\"A free copy of Mastering The Interview\",\"TotalVisits\",\"Page Views Per Visit\",\"Total Time Spent on Website\"]], plot_kws={\"s\": 15}, diag_kind='kde')"
   ]
  },
  {
   "cell_type": "code",
   "execution_count": 44,
   "metadata": {
    "colab": {
     "base_uri": "https://localhost:8080/",
     "height": 801
    },
    "colab_type": "code",
    "id": "64_hEsClIYBC",
    "outputId": "6269c48d-6a46-4d5b-f875-68ebd960843e"
   },
   "outputs": [
    {
     "data": {
      "image/png": "[encoded data removed]",
      "text/plain": [
       "<Figure size 576x432 with 2 Axes>"
      ]
     },
     "metadata": {
      "needs_background": "light"
     },
     "output_type": "display_data"
    }
   ],
   "source": [
    "# Let's check the correlation coefficients to see which variables are highly correlated\n",
    "plt.figure(figsize = (8,6))\n",
    "sns.heatmap(leads1[[\"Converted\",\"Do Not Email\",\"A free copy of Mastering The Interview\",\"TotalVisits\",\"Page Views Per Visit\",\"Total Time Spent on Website\"]].corr(), annot = True, cmap=\"YlGnBu\")\n",
    "plt.show()"
   ]
  },
  {
   "cell_type": "markdown",
   "metadata": {
    "colab_type": "text",
    "id": "fFLulXpcIg4U"
   },
   "source": [
    "There are no highly correlated variables in this dataset"
   ]
  },
  {
   "cell_type": "markdown",
   "metadata": {
    "colab_type": "text",
    "id": "7eTpDGu_iIpm"
   },
   "source": [
    "To handle categorical variables in the model we can use WOE encoding or Dummy encoding, the TA confirmed that either one should be okay."
   ]
  },
  {
   "cell_type": "markdown",
   "metadata": {
    "colab_type": "text",
    "id": "EHzCvvjkIycV"
   },
   "source": [
    "### Using the WOE (Weight of Evidence) Approach for Categorical variables"
   ]
  },
  {
   "cell_type": "code",
   "execution_count": 45,
   "metadata": {
    "colab": {},
    "colab_type": "code",
    "id": "7XhWrEsrIYo0"
   },
   "outputs": [],
   "source": [
    "# Putting feature variables in X\n",
    "X = leads1.drop([\"Converted\"], axis=1)\n",
    "\n",
    "# Putting response variable in y\n",
    "y = leads1[\"Converted\"]"
   ]
  },
  {
   "cell_type": "code",
   "execution_count": 46,
   "metadata": {
    "colab": {
     "base_uri": "https://localhost:8080/",
     "height": 320
    },
    "colab_type": "code",
    "id": "IDtoHbHfIXte",
    "outputId": "5c972744-f468-4872-a345-83ac8cd35f64"
   },
   "outputs": [
    {
     "data": {
      "text/html": [
       "<div>\n",
       "<style scoped>\n",
       "    .dataframe tbody tr th:only-of-type {\n",
       "        vertical-align: middle;\n",
       "    }\n",
       "\n",
       "    .dataframe tbody tr th {\n",
       "        vertical-align: top;\n",
       "    }\n",
       "\n",
       "    .dataframe thead th {\n",
       "        text-align: right;\n",
       "    }\n",
       "</style>\n",
       "<table border=\"1\" class=\"dataframe\">\n",
       "  <thead>\n",
       "    <tr style=\"text-align: right;\">\n",
       "      <th></th>\n",
       "      <th>Lead Origin</th>\n",
       "      <th>Lead Source</th>\n",
       "      <th>Do Not Email</th>\n",
       "      <th>TotalVisits</th>\n",
       "      <th>Total Time Spent on Website</th>\n",
       "      <th>Page Views Per Visit</th>\n",
       "      <th>Last Activity</th>\n",
       "      <th>Country</th>\n",
       "      <th>Specialization</th>\n",
       "      <th>What is your current occupation</th>\n",
       "      <th>What matters most to you in choosing a course</th>\n",
       "      <th>City</th>\n",
       "      <th>A free copy of Mastering The Interview</th>\n",
       "      <th>Last Notable Activity</th>\n",
       "    </tr>\n",
       "    <tr>\n",
       "      <th>Lead Number</th>\n",
       "      <th></th>\n",
       "      <th></th>\n",
       "      <th></th>\n",
       "      <th></th>\n",
       "      <th></th>\n",
       "      <th></th>\n",
       "      <th></th>\n",
       "      <th></th>\n",
       "      <th></th>\n",
       "      <th></th>\n",
       "      <th></th>\n",
       "      <th></th>\n",
       "      <th></th>\n",
       "      <th></th>\n",
       "    </tr>\n",
       "  </thead>\n",
       "  <tbody>\n",
       "    <tr>\n",
       "      <th>660737</th>\n",
       "      <td>-0.326322</td>\n",
       "      <td>-0.602707</td>\n",
       "      <td>0.081001</td>\n",
       "      <td>0.0</td>\n",
       "      <td>0</td>\n",
       "      <td>0.0</td>\n",
       "      <td>-0.704000</td>\n",
       "      <td>0.214282</td>\n",
       "      <td>-0.444391</td>\n",
       "      <td>0.208770</td>\n",
       "      <td>0.421187</td>\n",
       "      <td>-0.184823</td>\n",
       "      <td>0.054760</td>\n",
       "      <td>-0.741903</td>\n",
       "    </tr>\n",
       "    <tr>\n",
       "      <th>660728</th>\n",
       "      <td>-0.326322</td>\n",
       "      <td>-0.031404</td>\n",
       "      <td>0.081001</td>\n",
       "      <td>5.0</td>\n",
       "      <td>674</td>\n",
       "      <td>2.5</td>\n",
       "      <td>-0.036178</td>\n",
       "      <td>-0.066208</td>\n",
       "      <td>-0.444391</td>\n",
       "      <td>0.208770</td>\n",
       "      <td>0.421187</td>\n",
       "      <td>-0.184823</td>\n",
       "      <td>0.054760</td>\n",
       "      <td>-0.068317</td>\n",
       "    </tr>\n",
       "    <tr>\n",
       "      <th>660727</th>\n",
       "      <td>-0.100574</td>\n",
       "      <td>-0.278953</td>\n",
       "      <td>0.081001</td>\n",
       "      <td>2.0</td>\n",
       "      <td>1532</td>\n",
       "      <td>2.0</td>\n",
       "      <td>-0.036178</td>\n",
       "      <td>-0.066208</td>\n",
       "      <td>0.243381</td>\n",
       "      <td>0.155088</td>\n",
       "      <td>0.421187</td>\n",
       "      <td>0.087356</td>\n",
       "      <td>-0.122985</td>\n",
       "      <td>-0.068317</td>\n",
       "    </tr>\n",
       "    <tr>\n",
       "      <th>660719</th>\n",
       "      <td>-0.100574</td>\n",
       "      <td>-0.278953</td>\n",
       "      <td>0.081001</td>\n",
       "      <td>1.0</td>\n",
       "      <td>305</td>\n",
       "      <td>1.0</td>\n",
       "      <td>-0.153195</td>\n",
       "      <td>-0.066208</td>\n",
       "      <td>0.026015</td>\n",
       "      <td>0.208770</td>\n",
       "      <td>0.421187</td>\n",
       "      <td>0.087356</td>\n",
       "      <td>0.054760</td>\n",
       "      <td>-0.741903</td>\n",
       "    </tr>\n",
       "    <tr>\n",
       "      <th>660681</th>\n",
       "      <td>-0.100574</td>\n",
       "      <td>0.081950</td>\n",
       "      <td>0.081001</td>\n",
       "      <td>2.0</td>\n",
       "      <td>1428</td>\n",
       "      <td>1.0</td>\n",
       "      <td>-1.453068</td>\n",
       "      <td>-0.066208</td>\n",
       "      <td>-0.444391</td>\n",
       "      <td>0.208770</td>\n",
       "      <td>0.421187</td>\n",
       "      <td>0.087356</td>\n",
       "      <td>0.054760</td>\n",
       "      <td>-0.741903</td>\n",
       "    </tr>\n",
       "  </tbody>\n",
       "</table>\n",
       "</div>"
      ],
      "text/plain": [
       "             Lead Origin  Lead Source  Do Not Email  TotalVisits  \\\n",
       "Lead Number                                                        \n",
       "660737         -0.326322    -0.602707      0.081001          0.0   \n",
       "660728         -0.326322    -0.031404      0.081001          5.0   \n",
       "660727         -0.100574    -0.278953      0.081001          2.0   \n",
       "660719         -0.100574    -0.278953      0.081001          1.0   \n",
       "660681         -0.100574     0.081950      0.081001          2.0   \n",
       "\n",
       "             Total Time Spent on Website  Page Views Per Visit  Last Activity  \\\n",
       "Lead Number                                                                     \n",
       "660737                                 0                   0.0      -0.704000   \n",
       "660728                               674                   2.5      -0.036178   \n",
       "660727                              1532                   2.0      -0.036178   \n",
       "660719                               305                   1.0      -0.153195   \n",
       "660681                              1428                   1.0      -1.453068   \n",
       "\n",
       "              Country  Specialization  What is your current occupation  \\\n",
       "Lead Number                                                              \n",
       "660737       0.214282       -0.444391                         0.208770   \n",
       "660728      -0.066208       -0.444391                         0.208770   \n",
       "660727      -0.066208        0.243381                         0.155088   \n",
       "660719      -0.066208        0.026015                         0.208770   \n",
       "660681      -0.066208       -0.444391                         0.208770   \n",
       "\n",
       "             What matters most to you in choosing a course      City  \\\n",
       "Lead Number                                                            \n",
       "660737                                            0.421187 -0.184823   \n",
       "660728                                            0.421187 -0.184823   \n",
       "660727                                            0.421187  0.087356   \n",
       "660719                                            0.421187  0.087356   \n",
       "660681                                            0.421187  0.087356   \n",
       "\n",
       "             A free copy of Mastering The Interview  Last Notable Activity  \n",
       "Lead Number                                                                 \n",
       "660737                                     0.054760              -0.741903  \n",
       "660728                                     0.054760              -0.068317  \n",
       "660727                                    -0.122985              -0.068317  \n",
       "660719                                     0.054760              -0.741903  \n",
       "660681                                     0.054760              -0.741903  "
      ]
     },
     "execution_count": 46,
     "metadata": {},
     "output_type": "execute_result"
    }
   ],
   "source": [
    "# Encoding the categorical variables using WOE\n",
    "woe_encoder = ce.WOEEncoder(cols = X.select_dtypes(include = \"O\").columns)\n",
    "leads_woe = woe_encoder.fit_transform(X,y)\n",
    "leads_woe.head()"
   ]
  },
  {
   "cell_type": "code",
   "execution_count": 47,
   "metadata": {
    "colab": {
     "base_uri": "https://localhost:8080/",
     "height": 111
    },
    "colab_type": "code",
    "id": "ttDA3ZePI7wx",
    "outputId": "a3f81830-be27-49e7-e0f9-19a59cd8f614"
   },
   "outputs": [
    {
     "data": {
      "text/html": [
       "<div>\n",
       "<style scoped>\n",
       "    .dataframe tbody tr th:only-of-type {\n",
       "        vertical-align: middle;\n",
       "    }\n",
       "\n",
       "    .dataframe tbody tr th {\n",
       "        vertical-align: top;\n",
       "    }\n",
       "\n",
       "    .dataframe thead th {\n",
       "        text-align: right;\n",
       "    }\n",
       "</style>\n",
       "<table border=\"1\" class=\"dataframe\">\n",
       "  <thead>\n",
       "    <tr style=\"text-align: right;\">\n",
       "      <th></th>\n",
       "      <th>col1</th>\n",
       "      <th>col2</th>\n",
       "      <th>correlation</th>\n",
       "    </tr>\n",
       "  </thead>\n",
       "  <tbody>\n",
       "    <tr>\n",
       "      <th>14</th>\n",
       "      <td>Lead Source</td>\n",
       "      <td>Lead Origin</td>\n",
       "      <td>0.856303</td>\n",
       "    </tr>\n",
       "    <tr>\n",
       "      <th>1</th>\n",
       "      <td>Lead Origin</td>\n",
       "      <td>Lead Source</td>\n",
       "      <td>0.856303</td>\n",
       "    </tr>\n",
       "  </tbody>\n",
       "</table>\n",
       "</div>"
      ],
      "text/plain": [
       "           col1         col2  correlation\n",
       "14  Lead Source  Lead Origin     0.856303\n",
       "1   Lead Origin  Lead Source     0.856303"
      ]
     },
     "execution_count": 47,
     "metadata": {},
     "output_type": "execute_result"
    }
   ],
   "source": [
    "# Checking highly correlated variables (above 0.8) \n",
    "corr = abs(leads_woe.corr()).stack().reset_index().sort_values(0, ascending = False)\n",
    "corr.columns = [\"col1\",\"col2\",\"correlation\"]\n",
    "corr[(corr.col1 != corr.col2) & (corr.correlation > 0.8)]"
   ]
  },
  {
   "cell_type": "code",
   "execution_count": 48,
   "metadata": {
    "colab": {},
    "colab_type": "code",
    "id": "rqbLF2_9I8ba"
   },
   "outputs": [],
   "source": [
    "# Dropping \"Lead Origin\" as it is highly correlated with \"Lead Source\"\n",
    "leads_woe = leads_woe.drop([\"Lead Origin\"], axis = 1)"
   ]
  },
  {
   "cell_type": "code",
   "execution_count": 49,
   "metadata": {
    "colab": {
     "base_uri": "https://localhost:8080/",
     "height": 452
    },
    "colab_type": "code",
    "id": "2h9NMqqAI9A1",
    "outputId": "a79ecf74-9f08-4e5b-e654-42198ef18c2f"
   },
   "outputs": [
    {
     "data": {
      "text/html": [
       "<div>\n",
       "<style scoped>\n",
       "    .dataframe tbody tr th:only-of-type {\n",
       "        vertical-align: middle;\n",
       "    }\n",
       "\n",
       "    .dataframe tbody tr th {\n",
       "        vertical-align: top;\n",
       "    }\n",
       "\n",
       "    .dataframe thead th {\n",
       "        text-align: right;\n",
       "    }\n",
       "</style>\n",
       "<table border=\"1\" class=\"dataframe\">\n",
       "  <thead>\n",
       "    <tr style=\"text-align: right;\">\n",
       "      <th></th>\n",
       "      <th>Features</th>\n",
       "      <th>VIF</th>\n",
       "    </tr>\n",
       "  </thead>\n",
       "  <tbody>\n",
       "    <tr>\n",
       "      <th>4</th>\n",
       "      <td>Page Views Per Visit</td>\n",
       "      <td>4.49</td>\n",
       "    </tr>\n",
       "    <tr>\n",
       "      <th>2</th>\n",
       "      <td>TotalVisits</td>\n",
       "      <td>4.17</td>\n",
       "    </tr>\n",
       "    <tr>\n",
       "      <th>8</th>\n",
       "      <td>What is your current occupation</td>\n",
       "      <td>2.72</td>\n",
       "    </tr>\n",
       "    <tr>\n",
       "      <th>9</th>\n",
       "      <td>What matters most to you in choosing a course</td>\n",
       "      <td>2.53</td>\n",
       "    </tr>\n",
       "    <tr>\n",
       "      <th>7</th>\n",
       "      <td>Specialization</td>\n",
       "      <td>2.48</td>\n",
       "    </tr>\n",
       "    <tr>\n",
       "      <th>10</th>\n",
       "      <td>City</td>\n",
       "      <td>2.41</td>\n",
       "    </tr>\n",
       "    <tr>\n",
       "      <th>5</th>\n",
       "      <td>Last Activity</td>\n",
       "      <td>2.26</td>\n",
       "    </tr>\n",
       "    <tr>\n",
       "      <th>12</th>\n",
       "      <td>Last Notable Activity</td>\n",
       "      <td>2.09</td>\n",
       "    </tr>\n",
       "    <tr>\n",
       "      <th>3</th>\n",
       "      <td>Total Time Spent on Website</td>\n",
       "      <td>1.93</td>\n",
       "    </tr>\n",
       "    <tr>\n",
       "      <th>6</th>\n",
       "      <td>Country</td>\n",
       "      <td>1.54</td>\n",
       "    </tr>\n",
       "    <tr>\n",
       "      <th>11</th>\n",
       "      <td>A free copy of Mastering The Interview</td>\n",
       "      <td>1.45</td>\n",
       "    </tr>\n",
       "    <tr>\n",
       "      <th>0</th>\n",
       "      <td>Lead Source</td>\n",
       "      <td>1.24</td>\n",
       "    </tr>\n",
       "    <tr>\n",
       "      <th>1</th>\n",
       "      <td>Do Not Email</td>\n",
       "      <td>1.07</td>\n",
       "    </tr>\n",
       "  </tbody>\n",
       "</table>\n",
       "</div>"
      ],
      "text/plain": [
       "                                         Features   VIF\n",
       "4                            Page Views Per Visit  4.49\n",
       "2                                     TotalVisits  4.17\n",
       "8                 What is your current occupation  2.72\n",
       "9   What matters most to you in choosing a course  2.53\n",
       "7                                  Specialization  2.48\n",
       "10                                           City  2.41\n",
       "5                                   Last Activity  2.26\n",
       "12                          Last Notable Activity  2.09\n",
       "3                     Total Time Spent on Website  1.93\n",
       "6                                         Country  1.54\n",
       "11         A free copy of Mastering The Interview  1.45\n",
       "0                                     Lead Source  1.24\n",
       "1                                    Do Not Email  1.07"
      ]
     },
     "execution_count": 49,
     "metadata": {},
     "output_type": "execute_result"
    }
   ],
   "source": [
    "# Creating a dataframe that will contain the names of all the feature variables and their respective VIFs\n",
    "vif = pd.DataFrame()\n",
    "vif['Features'] = leads_woe.columns\n",
    "vif['VIF'] = [variance_inflation_factor(leads_woe.values, i) for i in range(leads_woe.shape[1])]\n",
    "vif['VIF'] = round(vif['VIF'], 2)\n",
    "vif = vif.sort_values(by = \"VIF\", ascending = False)\n",
    "vif"
   ]
  },
  {
   "cell_type": "markdown",
   "metadata": {
    "colab_type": "text",
    "id": "wQlOTzXEoUCZ"
   },
   "source": [
    "The highest VIF is 4.64 for \"Page Views Per Visit\". Typically it is better to have VIF below 10"
   ]
  },
  {
   "cell_type": "code",
   "execution_count": 50,
   "metadata": {
    "colab": {},
    "colab_type": "code",
    "id": "hpyqpSCiTDHA"
   },
   "outputs": [],
   "source": [
    "# Dropping \"Lead Origin\" as it is highly correlated with \"Lead Source\"\n",
    "leads2 = leads1.drop([\"Lead Origin\"], axis = 1)\n",
    "\n",
    "# Putting feature variables in X\n",
    "X = leads2.drop([\"Converted\"], axis=1)\n",
    "# Putting response variable in y\n",
    "y = leads2[\"Converted\"]\n",
    "\n",
    "# Splitting X into and y into train and test sets\n",
    "X_train, X_test, y_train, y_test = train_test_split(X, y, train_size=0.75, test_size=0.25, random_state=1)\n",
    "\n",
    "# Encoding the categorical variables using WOE\n",
    "woe_encoder = ce.WOEEncoder(cols = X_train.select_dtypes(include = \"O\").columns)\n",
    "X_train = woe_encoder.fit_transform(X_train,y_train)"
   ]
  },
  {
   "cell_type": "code",
   "execution_count": 51,
   "metadata": {
    "colab": {},
    "colab_type": "code",
    "id": "LUY0dMzRI8vb"
   },
   "outputs": [],
   "source": [
    "# Columns for scaling\n",
    "col_names_to_scale = ['City', 'Country', 'Last Activity', 'Last Notable Activity', 'Lead Source',\n",
    "       'Page Views Per Visit', 'Specialization', 'Total Time Spent on Website',\n",
    "       'TotalVisits', 'What is your current occupation',\n",
    "       'What matters most to you in choosing a course']\n",
    "\n",
    "# Scaling X_train\n",
    "scaler = StandardScaler()\n",
    "X_train[col_names_to_scale] = scaler.fit_transform(X_train[col_names_to_scale])"
   ]
  },
  {
   "cell_type": "code",
   "execution_count": 52,
   "metadata": {
    "colab": {
     "base_uri": "https://localhost:8080/",
     "height": 542
    },
    "colab_type": "code",
    "id": "jK2OgLNpUDdD",
    "outputId": "63cd763d-e696-4288-96b1-b5f325ae7127"
   },
   "outputs": [
    {
     "data": {
      "text/html": [
       "<table class=\"simpletable\">\n",
       "<caption>Generalized Linear Model Regression Results</caption>\n",
       "<tr>\n",
       "  <th>Dep. Variable:</th>      <td>Converted</td>    <th>  No. Observations:  </th>  <td>  6930</td>  \n",
       "</tr>\n",
       "<tr>\n",
       "  <th>Model:</th>                 <td>GLM</td>       <th>  Df Residuals:      </th>  <td>  6916</td>  \n",
       "</tr>\n",
       "<tr>\n",
       "  <th>Model Family:</th>       <td>Binomial</td>     <th>  Df Model:          </th>  <td>    13</td>  \n",
       "</tr>\n",
       "<tr>\n",
       "  <th>Link Function:</th>        <td>logit</td>      <th>  Scale:             </th> <td>  1.0000</td> \n",
       "</tr>\n",
       "<tr>\n",
       "  <th>Method:</th>               <td>IRLS</td>       <th>  Log-Likelihood:    </th> <td> -2858.6</td> \n",
       "</tr>\n",
       "<tr>\n",
       "  <th>Date:</th>           <td>Sun, 13 Sep 2020</td> <th>  Deviance:          </th> <td>  5717.2</td> \n",
       "</tr>\n",
       "<tr>\n",
       "  <th>Time:</th>               <td>20:23:56</td>     <th>  Pearson chi2:      </th> <td>7.37e+03</td> \n",
       "</tr>\n",
       "<tr>\n",
       "  <th>No. Iterations:</th>         <td>6</td>        <th>  Covariance Type:   </th> <td>nonrobust</td>\n",
       "</tr>\n",
       "</table>\n",
       "<table class=\"simpletable\">\n",
       "<tr>\n",
       "                        <td></td>                           <th>coef</th>     <th>std err</th>      <th>z</th>      <th>P>|z|</th>  <th>[0.025</th>    <th>0.975]</th>  \n",
       "</tr>\n",
       "<tr>\n",
       "  <th>const</th>                                         <td>   -0.6918</td> <td>    0.037</td> <td>  -18.680</td> <td> 0.000</td> <td>   -0.764</td> <td>   -0.619</td>\n",
       "</tr>\n",
       "<tr>\n",
       "  <th>Lead Source</th>                                   <td>    0.4688</td> <td>    0.044</td> <td>   10.769</td> <td> 0.000</td> <td>    0.383</td> <td>    0.554</td>\n",
       "</tr>\n",
       "<tr>\n",
       "  <th>Do Not Email</th>                                  <td>    0.6104</td> <td>    0.132</td> <td>    4.621</td> <td> 0.000</td> <td>    0.352</td> <td>    0.869</td>\n",
       "</tr>\n",
       "<tr>\n",
       "  <th>TotalVisits</th>                                   <td>    0.2746</td> <td>    0.046</td> <td>    5.998</td> <td> 0.000</td> <td>    0.185</td> <td>    0.364</td>\n",
       "</tr>\n",
       "<tr>\n",
       "  <th>Total Time Spent on Website</th>                   <td>    1.0463</td> <td>    0.039</td> <td>   27.056</td> <td> 0.000</td> <td>    0.971</td> <td>    1.122</td>\n",
       "</tr>\n",
       "<tr>\n",
       "  <th>Page Views Per Visit</th>                          <td>   -0.3730</td> <td>    0.051</td> <td>   -7.351</td> <td> 0.000</td> <td>   -0.472</td> <td>   -0.274</td>\n",
       "</tr>\n",
       "<tr>\n",
       "  <th>Last Activity</th>                                 <td>    0.6628</td> <td>    0.057</td> <td>   11.727</td> <td> 0.000</td> <td>    0.552</td> <td>    0.774</td>\n",
       "</tr>\n",
       "<tr>\n",
       "  <th>Country</th>                                       <td>    0.6674</td> <td>    0.051</td> <td>   13.013</td> <td> 0.000</td> <td>    0.567</td> <td>    0.768</td>\n",
       "</tr>\n",
       "<tr>\n",
       "  <th>Specialization</th>                                <td>    0.1278</td> <td>    0.052</td> <td>    2.441</td> <td> 0.015</td> <td>    0.025</td> <td>    0.230</td>\n",
       "</tr>\n",
       "<tr>\n",
       "  <th>What is your current occupation</th>               <td>    0.9549</td> <td>    0.072</td> <td>   13.307</td> <td> 0.000</td> <td>    0.814</td> <td>    1.096</td>\n",
       "</tr>\n",
       "<tr>\n",
       "  <th>What matters most to you in choosing a course</th> <td>   -0.0701</td> <td>    0.061</td> <td>   -1.148</td> <td> 0.251</td> <td>   -0.190</td> <td>    0.050</td>\n",
       "</tr>\n",
       "<tr>\n",
       "  <th>City</th>                                          <td>    0.0081</td> <td>    0.051</td> <td>    0.159</td> <td> 0.874</td> <td>   -0.092</td> <td>    0.108</td>\n",
       "</tr>\n",
       "<tr>\n",
       "  <th>A free copy of Mastering The Interview</th>        <td>    1.1334</td> <td>    0.569</td> <td>    1.990</td> <td> 0.047</td> <td>    0.017</td> <td>    2.250</td>\n",
       "</tr>\n",
       "<tr>\n",
       "  <th>Last Notable Activity</th>                         <td>    0.3287</td> <td>    0.047</td> <td>    7.044</td> <td> 0.000</td> <td>    0.237</td> <td>    0.420</td>\n",
       "</tr>\n",
       "</table>"
      ],
      "text/plain": [
       "<class 'statsmodels.iolib.summary.Summary'>\n",
       "\"\"\"\n",
       "                 Generalized Linear Model Regression Results                  \n",
       "==============================================================================\n",
       "Dep. Variable:              Converted   No. Observations:                 6930\n",
       "Model:                            GLM   Df Residuals:                     6916\n",
       "Model Family:                Binomial   Df Model:                           13\n",
       "Link Function:                  logit   Scale:                          1.0000\n",
       "Method:                          IRLS   Log-Likelihood:                -2858.6\n",
       "Date:                Sun, 13 Sep 2020   Deviance:                       5717.2\n",
       "Time:                        20:23:56   Pearson chi2:                 7.37e+03\n",
       "No. Iterations:                     6   Covariance Type:             nonrobust\n",
       "=================================================================================================================\n",
       "                                                    coef    std err          z      P>|z|      [0.025      0.975]\n",
       "-----------------------------------------------------------------------------------------------------------------\n",
       "const                                            -0.6918      0.037    -18.680      0.000      -0.764      -0.619\n",
       "Lead Source                                       0.4688      0.044     10.769      0.000       0.383       0.554\n",
       "Do Not Email                                      0.6104      0.132      4.621      0.000       0.352       0.869\n",
       "TotalVisits                                       0.2746      0.046      5.998      0.000       0.185       0.364\n",
       "Total Time Spent on Website                       1.0463      0.039     27.056      0.000       0.971       1.122\n",
       "Page Views Per Visit                             -0.3730      0.051     -7.351      0.000      -0.472      -0.274\n",
       "Last Activity                                     0.6628      0.057     11.727      0.000       0.552       0.774\n",
       "Country                                           0.6674      0.051     13.013      0.000       0.567       0.768\n",
       "Specialization                                    0.1278      0.052      2.441      0.015       0.025       0.230\n",
       "What is your current occupation                   0.9549      0.072     13.307      0.000       0.814       1.096\n",
       "What matters most to you in choosing a course    -0.0701      0.061     -1.148      0.251      -0.190       0.050\n",
       "City                                              0.0081      0.051      0.159      0.874      -0.092       0.108\n",
       "A free copy of Mastering The Interview            1.1334      0.569      1.990      0.047       0.017       2.250\n",
       "Last Notable Activity                             0.3287      0.047      7.044      0.000       0.237       0.420\n",
       "=================================================================================================================\n",
       "\"\"\""
      ]
     },
     "execution_count": 52,
     "metadata": {},
     "output_type": "execute_result"
    }
   ],
   "source": [
    "# Logistic regression model\n",
    "logm = sm.GLM(y_train,(sm.add_constant(X_train)), family = sm.families.Binomial()).fit()\n",
    "logm.summary()"
   ]
  },
  {
   "cell_type": "code",
   "execution_count": 53,
   "metadata": {
    "colab": {},
    "colab_type": "code",
    "id": "XzKJQc18UDMx"
   },
   "outputs": [],
   "source": [
    "# Dropping variables with high p-values\n",
    "leads2 = leads2.drop([\"What matters most to you in choosing a course\", \"City\"],axis = 1)"
   ]
  },
  {
   "cell_type": "code",
   "execution_count": 54,
   "metadata": {
    "colab": {},
    "colab_type": "code",
    "id": "b0CbcdItYW0v"
   },
   "outputs": [],
   "source": [
    "# Putting feature variables in X\n",
    "X = leads2.drop([\"Converted\"], axis=1)\n",
    "# Putting response variable in y\n",
    "y = leads2[\"Converted\"]\n",
    "\n",
    "# Splitting X into and y into train and test sets\n",
    "X_train, X_test, y_train, y_test = train_test_split(X, y, train_size=0.75, test_size=0.25, random_state=1)\n",
    "\n",
    "# Encoding the categorical variables using WOE\n",
    "woe_encoder = ce.WOEEncoder(cols = X_train.select_dtypes(include = \"O\").columns)\n",
    "X_train = woe_encoder.fit_transform(X_train,y_train)"
   ]
  },
  {
   "cell_type": "code",
   "execution_count": 55,
   "metadata": {
    "colab": {},
    "colab_type": "code",
    "id": "ODZ6IYuMYWkP"
   },
   "outputs": [],
   "source": [
    "# Columns for scaling\n",
    "col_names_to_scale = [ 'Country', 'Last Activity', 'Last Notable Activity', 'Lead Source',\n",
    "       'Page Views Per Visit', 'Specialization', 'Total Time Spent on Website',\n",
    "       'TotalVisits', 'What is your current occupation']\n",
    "\n",
    "# Scaling X_train\n",
    "scaler = StandardScaler()\n",
    "X_train[col_names_to_scale] = scaler.fit_transform(X_train[col_names_to_scale])"
   ]
  },
  {
   "cell_type": "code",
   "execution_count": 56,
   "metadata": {
    "colab": {
     "base_uri": "https://localhost:8080/",
     "height": 500
    },
    "colab_type": "code",
    "id": "DCt6eHsyYXx0",
    "outputId": "cf89a89a-88f8-4513-dbc4-b7ac72876fd9"
   },
   "outputs": [
    {
     "data": {
      "text/html": [
       "<table class=\"simpletable\">\n",
       "<caption>Generalized Linear Model Regression Results</caption>\n",
       "<tr>\n",
       "  <th>Dep. Variable:</th>      <td>Converted</td>    <th>  No. Observations:  </th>  <td>  6930</td>  \n",
       "</tr>\n",
       "<tr>\n",
       "  <th>Model:</th>                 <td>GLM</td>       <th>  Df Residuals:      </th>  <td>  6918</td>  \n",
       "</tr>\n",
       "<tr>\n",
       "  <th>Model Family:</th>       <td>Binomial</td>     <th>  Df Model:          </th>  <td>    11</td>  \n",
       "</tr>\n",
       "<tr>\n",
       "  <th>Link Function:</th>        <td>logit</td>      <th>  Scale:             </th> <td>  1.0000</td> \n",
       "</tr>\n",
       "<tr>\n",
       "  <th>Method:</th>               <td>IRLS</td>       <th>  Log-Likelihood:    </th> <td> -2859.3</td> \n",
       "</tr>\n",
       "<tr>\n",
       "  <th>Date:</th>           <td>Sun, 13 Sep 2020</td> <th>  Deviance:          </th> <td>  5718.5</td> \n",
       "</tr>\n",
       "<tr>\n",
       "  <th>Time:</th>               <td>20:23:57</td>     <th>  Pearson chi2:      </th> <td>7.27e+03</td> \n",
       "</tr>\n",
       "<tr>\n",
       "  <th>No. Iterations:</th>         <td>6</td>        <th>  Covariance Type:   </th> <td>nonrobust</td>\n",
       "</tr>\n",
       "</table>\n",
       "<table class=\"simpletable\">\n",
       "<tr>\n",
       "                     <td></td>                       <th>coef</th>     <th>std err</th>      <th>z</th>      <th>P>|z|</th>  <th>[0.025</th>    <th>0.975]</th>  \n",
       "</tr>\n",
       "<tr>\n",
       "  <th>const</th>                                  <td>   -0.7044</td> <td>    0.035</td> <td>  -19.984</td> <td> 0.000</td> <td>   -0.773</td> <td>   -0.635</td>\n",
       "</tr>\n",
       "<tr>\n",
       "  <th>Lead Source</th>                            <td>    0.4657</td> <td>    0.043</td> <td>   10.776</td> <td> 0.000</td> <td>    0.381</td> <td>    0.550</td>\n",
       "</tr>\n",
       "<tr>\n",
       "  <th>Do Not Email</th>                           <td>    0.6084</td> <td>    0.132</td> <td>    4.608</td> <td> 0.000</td> <td>    0.350</td> <td>    0.867</td>\n",
       "</tr>\n",
       "<tr>\n",
       "  <th>TotalVisits</th>                            <td>    0.2740</td> <td>    0.046</td> <td>    5.990</td> <td> 0.000</td> <td>    0.184</td> <td>    0.364</td>\n",
       "</tr>\n",
       "<tr>\n",
       "  <th>Total Time Spent on Website</th>            <td>    1.0472</td> <td>    0.039</td> <td>   27.070</td> <td> 0.000</td> <td>    0.971</td> <td>    1.123</td>\n",
       "</tr>\n",
       "<tr>\n",
       "  <th>Page Views Per Visit</th>                   <td>   -0.3726</td> <td>    0.051</td> <td>   -7.358</td> <td> 0.000</td> <td>   -0.472</td> <td>   -0.273</td>\n",
       "</tr>\n",
       "<tr>\n",
       "  <th>Last Activity</th>                          <td>    0.6643</td> <td>    0.057</td> <td>   11.756</td> <td> 0.000</td> <td>    0.554</td> <td>    0.775</td>\n",
       "</tr>\n",
       "<tr>\n",
       "  <th>Country</th>                                <td>    0.6645</td> <td>    0.051</td> <td>   13.016</td> <td> 0.000</td> <td>    0.564</td> <td>    0.765</td>\n",
       "</tr>\n",
       "<tr>\n",
       "  <th>Specialization</th>                         <td>    0.1321</td> <td>    0.042</td> <td>    3.176</td> <td> 0.001</td> <td>    0.051</td> <td>    0.214</td>\n",
       "</tr>\n",
       "<tr>\n",
       "  <th>What is your current occupation</th>        <td>    0.8922</td> <td>    0.045</td> <td>   19.926</td> <td> 0.000</td> <td>    0.804</td> <td>    0.980</td>\n",
       "</tr>\n",
       "<tr>\n",
       "  <th>A free copy of Mastering The Interview</th> <td>    1.1437</td> <td>    0.562</td> <td>    2.035</td> <td> 0.042</td> <td>    0.042</td> <td>    2.245</td>\n",
       "</tr>\n",
       "<tr>\n",
       "  <th>Last Notable Activity</th>                  <td>    0.3249</td> <td>    0.047</td> <td>    6.979</td> <td> 0.000</td> <td>    0.234</td> <td>    0.416</td>\n",
       "</tr>\n",
       "</table>"
      ],
      "text/plain": [
       "<class 'statsmodels.iolib.summary.Summary'>\n",
       "\"\"\"\n",
       "                 Generalized Linear Model Regression Results                  \n",
       "==============================================================================\n",
       "Dep. Variable:              Converted   No. Observations:                 6930\n",
       "Model:                            GLM   Df Residuals:                     6918\n",
       "Model Family:                Binomial   Df Model:                           11\n",
       "Link Function:                  logit   Scale:                          1.0000\n",
       "Method:                          IRLS   Log-Likelihood:                -2859.3\n",
       "Date:                Sun, 13 Sep 2020   Deviance:                       5718.5\n",
       "Time:                        20:23:57   Pearson chi2:                 7.27e+03\n",
       "No. Iterations:                     6   Covariance Type:             nonrobust\n",
       "==========================================================================================================\n",
       "                                             coef    std err          z      P>|z|      [0.025      0.975]\n",
       "----------------------------------------------------------------------------------------------------------\n",
       "const                                     -0.7044      0.035    -19.984      0.000      -0.773      -0.635\n",
       "Lead Source                                0.4657      0.043     10.776      0.000       0.381       0.550\n",
       "Do Not Email                               0.6084      0.132      4.608      0.000       0.350       0.867\n",
       "TotalVisits                                0.2740      0.046      5.990      0.000       0.184       0.364\n",
       "Total Time Spent on Website                1.0472      0.039     27.070      0.000       0.971       1.123\n",
       "Page Views Per Visit                      -0.3726      0.051     -7.358      0.000      -0.472      -0.273\n",
       "Last Activity                              0.6643      0.057     11.756      0.000       0.554       0.775\n",
       "Country                                    0.6645      0.051     13.016      0.000       0.564       0.765\n",
       "Specialization                             0.1321      0.042      3.176      0.001       0.051       0.214\n",
       "What is your current occupation            0.8922      0.045     19.926      0.000       0.804       0.980\n",
       "A free copy of Mastering The Interview     1.1437      0.562      2.035      0.042       0.042       2.245\n",
       "Last Notable Activity                      0.3249      0.047      6.979      0.000       0.234       0.416\n",
       "==========================================================================================================\n",
       "\"\"\""
      ]
     },
     "execution_count": 56,
     "metadata": {},
     "output_type": "execute_result"
    }
   ],
   "source": [
    "# Final Logistic Regression Model\n",
    "logm = sm.GLM(y_train,(sm.add_constant(X_train)), family = sm.families.Binomial()).fit()\n",
    "logm.summary()"
   ]
  },
  {
   "cell_type": "code",
   "execution_count": 87,
   "metadata": {},
   "outputs": [],
   "source": [
    "y_train_pred = logm.predict(sm.add_constant(X_train)).values.reshape(-1)"
   ]
  },
  {
   "cell_type": "code",
   "execution_count": 58,
   "metadata": {
    "colab": {
     "base_uri": "https://localhost:8080/",
     "height": 34
    },
    "colab_type": "code",
    "id": "iAB5hIPgYYyy",
    "outputId": "222e1a5d-7a3d-468d-b236-a7b26f7a84b2"
   },
   "outputs": [
    {
     "name": "stdout",
     "output_type": "stream",
     "text": [
      "ROC AUC of the Train Data: 0.886\n"
     ]
    }
   ],
   "source": [
    "print(\"ROC AUC of the Train Data:\",round(roc_auc_score(y_train, y_train_pred),3))"
   ]
  },
  {
   "cell_type": "code",
   "execution_count": 59,
   "metadata": {
    "colab": {
     "base_uri": "https://localhost:8080/",
     "height": 34
    },
    "colab_type": "code",
    "id": "FzBMzRagPut5",
    "outputId": "b338cf69-c458-4f34-d508-989a8c9b40bb"
   },
   "outputs": [
    {
     "name": "stdout",
     "output_type": "stream",
     "text": [
      "ROC AUC of the Test Data: 0.892\n"
     ]
    }
   ],
   "source": [
    "# Encoding the categorical variables using WOE in test set\n",
    "X_test = woe_encoder.transform(X_test)\n",
    "\n",
    "# Scaling X_test\n",
    "X_test[col_names_to_scale] =  scaler.transform(X_test[col_names_to_scale])\n",
    "X_test\n",
    "y_test_pred = logm.predict(sm.add_constant(X_test)).values.reshape(-1)\n",
    "print(\"ROC AUC of the Test Data:\",round(roc_auc_score(y_test,y_test_pred),3))"
   ]
  },
  {
   "cell_type": "markdown",
   "metadata": {
    "colab_type": "text",
    "id": "SgOWwJLbJviW"
   },
   "source": [
    "### Plotting the ROC Curve\n"
   ]
  },
  {
   "cell_type": "code",
   "execution_count": 60,
   "metadata": {
    "colab": {
     "base_uri": "https://localhost:8080/",
     "height": 458
    },
    "colab_type": "code",
    "id": "i32CbzPbJsGY",
    "outputId": "9ee72e9f-fed7-4907-9b5d-9c0cd6e98f2c"
   },
   "outputs": [
    {
     "data": {
      "image/png": "[encoded data removed]",
      "text/plain": [
       "<Figure size 504x504 with 1 Axes>"
      ]
     },
     "metadata": {
      "needs_background": "light"
     },
     "output_type": "display_data"
    }
   ],
   "source": [
    "def draw_roc( actual, probs ):\n",
    "    from sklearn import metrics\n",
    "    fpr, tpr, thresholds = metrics.roc_curve( actual, probs,\n",
    "                                              drop_intermediate = False )\n",
    "    auc_score = metrics.roc_auc_score( actual, probs )\n",
    "    plt.figure(figsize=(7, 7))\n",
    "    plt.plot( fpr, tpr, label='ROC curve (area = %0.2f)' % auc_score )\n",
    "    plt.plot([0, 1], [0, 1], 'k--')\n",
    "    plt.xlim([0.0, 1.0])\n",
    "    plt.ylim([0.0, 1.05])\n",
    "    plt.xlabel('False Positive Rate or [1 - True Negative Rate]')\n",
    "    plt.ylabel('True Positive Rate')\n",
    "    plt.title('Receiver operating characteristic example')\n",
    "    plt.legend(loc=\"lower right\")\n",
    "    plt.show()\n",
    "\n",
    "    return None\n",
    "\n",
    "\n",
    "draw_roc(y_test, y_test_pred)"
   ]
  },
  {
   "cell_type": "markdown",
   "metadata": {},
   "source": [
    "## Model Evaluation for Train data"
   ]
  },
  {
   "cell_type": "markdown",
   "metadata": {
    "colab_type": "text",
    "id": "MwKLp-h_J5zG"
   },
   "source": [
    "### Finding Optimal Cutoff Point\n",
    "\n"
   ]
  },
  {
   "cell_type": "code",
   "execution_count": 61,
   "metadata": {
    "colab": {
     "base_uri": "https://localhost:8080/",
     "height": 235
    },
    "colab_type": "code",
    "id": "mtPwAecfJTXg",
    "outputId": "f5d0bc2d-5f23-457c-dfc8-003ae13845d8"
   },
   "outputs": [
    {
     "data": {
      "text/html": [
       "<div>\n",
       "<style scoped>\n",
       "    .dataframe tbody tr th:only-of-type {\n",
       "        vertical-align: middle;\n",
       "    }\n",
       "\n",
       "    .dataframe tbody tr th {\n",
       "        vertical-align: top;\n",
       "    }\n",
       "\n",
       "    .dataframe thead th {\n",
       "        text-align: right;\n",
       "    }\n",
       "</style>\n",
       "<table border=\"1\" class=\"dataframe\">\n",
       "  <thead>\n",
       "    <tr style=\"text-align: right;\">\n",
       "      <th></th>\n",
       "      <th>actuals</th>\n",
       "      <th>pred_prob</th>\n",
       "      <th>0.0</th>\n",
       "      <th>0.05</th>\n",
       "      <th>0.1</th>\n",
       "      <th>0.15</th>\n",
       "      <th>0.2</th>\n",
       "      <th>0.25</th>\n",
       "      <th>0.3</th>\n",
       "      <th>0.35</th>\n",
       "      <th>...</th>\n",
       "      <th>0.5</th>\n",
       "      <th>0.55</th>\n",
       "      <th>0.6</th>\n",
       "      <th>0.65</th>\n",
       "      <th>0.7</th>\n",
       "      <th>0.75</th>\n",
       "      <th>0.8</th>\n",
       "      <th>0.85</th>\n",
       "      <th>0.9</th>\n",
       "      <th>0.95</th>\n",
       "    </tr>\n",
       "    <tr>\n",
       "      <th>Lead Number</th>\n",
       "      <th></th>\n",
       "      <th></th>\n",
       "      <th></th>\n",
       "      <th></th>\n",
       "      <th></th>\n",
       "      <th></th>\n",
       "      <th></th>\n",
       "      <th></th>\n",
       "      <th></th>\n",
       "      <th></th>\n",
       "      <th></th>\n",
       "      <th></th>\n",
       "      <th></th>\n",
       "      <th></th>\n",
       "      <th></th>\n",
       "      <th></th>\n",
       "      <th></th>\n",
       "      <th></th>\n",
       "      <th></th>\n",
       "      <th></th>\n",
       "      <th></th>\n",
       "    </tr>\n",
       "  </thead>\n",
       "  <tbody>\n",
       "    <tr>\n",
       "      <th>600406</th>\n",
       "      <td>1</td>\n",
       "      <td>0.930040</td>\n",
       "      <td>1</td>\n",
       "      <td>1</td>\n",
       "      <td>1</td>\n",
       "      <td>1</td>\n",
       "      <td>1</td>\n",
       "      <td>1</td>\n",
       "      <td>1</td>\n",
       "      <td>1</td>\n",
       "      <td>...</td>\n",
       "      <td>1</td>\n",
       "      <td>1</td>\n",
       "      <td>1</td>\n",
       "      <td>1</td>\n",
       "      <td>1</td>\n",
       "      <td>1</td>\n",
       "      <td>1</td>\n",
       "      <td>1</td>\n",
       "      <td>1</td>\n",
       "      <td>0</td>\n",
       "    </tr>\n",
       "    <tr>\n",
       "      <th>648236</th>\n",
       "      <td>1</td>\n",
       "      <td>0.797202</td>\n",
       "      <td>1</td>\n",
       "      <td>1</td>\n",
       "      <td>1</td>\n",
       "      <td>1</td>\n",
       "      <td>1</td>\n",
       "      <td>1</td>\n",
       "      <td>1</td>\n",
       "      <td>1</td>\n",
       "      <td>...</td>\n",
       "      <td>1</td>\n",
       "      <td>1</td>\n",
       "      <td>1</td>\n",
       "      <td>1</td>\n",
       "      <td>1</td>\n",
       "      <td>1</td>\n",
       "      <td>0</td>\n",
       "      <td>0</td>\n",
       "      <td>0</td>\n",
       "      <td>0</td>\n",
       "    </tr>\n",
       "    <tr>\n",
       "      <th>601512</th>\n",
       "      <td>0</td>\n",
       "      <td>0.836781</td>\n",
       "      <td>1</td>\n",
       "      <td>1</td>\n",
       "      <td>1</td>\n",
       "      <td>1</td>\n",
       "      <td>1</td>\n",
       "      <td>1</td>\n",
       "      <td>1</td>\n",
       "      <td>1</td>\n",
       "      <td>...</td>\n",
       "      <td>1</td>\n",
       "      <td>1</td>\n",
       "      <td>1</td>\n",
       "      <td>1</td>\n",
       "      <td>1</td>\n",
       "      <td>1</td>\n",
       "      <td>1</td>\n",
       "      <td>0</td>\n",
       "      <td>0</td>\n",
       "      <td>0</td>\n",
       "    </tr>\n",
       "    <tr>\n",
       "      <th>642361</th>\n",
       "      <td>1</td>\n",
       "      <td>0.981576</td>\n",
       "      <td>1</td>\n",
       "      <td>1</td>\n",
       "      <td>1</td>\n",
       "      <td>1</td>\n",
       "      <td>1</td>\n",
       "      <td>1</td>\n",
       "      <td>1</td>\n",
       "      <td>1</td>\n",
       "      <td>...</td>\n",
       "      <td>1</td>\n",
       "      <td>1</td>\n",
       "      <td>1</td>\n",
       "      <td>1</td>\n",
       "      <td>1</td>\n",
       "      <td>1</td>\n",
       "      <td>1</td>\n",
       "      <td>1</td>\n",
       "      <td>1</td>\n",
       "      <td>1</td>\n",
       "    </tr>\n",
       "    <tr>\n",
       "      <th>606502</th>\n",
       "      <td>1</td>\n",
       "      <td>0.710904</td>\n",
       "      <td>1</td>\n",
       "      <td>1</td>\n",
       "      <td>1</td>\n",
       "      <td>1</td>\n",
       "      <td>1</td>\n",
       "      <td>1</td>\n",
       "      <td>1</td>\n",
       "      <td>1</td>\n",
       "      <td>...</td>\n",
       "      <td>1</td>\n",
       "      <td>1</td>\n",
       "      <td>1</td>\n",
       "      <td>1</td>\n",
       "      <td>1</td>\n",
       "      <td>0</td>\n",
       "      <td>0</td>\n",
       "      <td>0</td>\n",
       "      <td>0</td>\n",
       "      <td>0</td>\n",
       "    </tr>\n",
       "  </tbody>\n",
       "</table>\n",
       "<p>5 rows × 22 columns</p>\n",
       "</div>"
      ],
      "text/plain": [
       "             actuals  pred_prob  0.0  0.05  0.1  0.15  0.2  0.25  0.3  0.35  \\\n",
       "Lead Number                                                                   \n",
       "600406             1   0.930040    1     1    1     1    1     1    1     1   \n",
       "648236             1   0.797202    1     1    1     1    1     1    1     1   \n",
       "601512             0   0.836781    1     1    1     1    1     1    1     1   \n",
       "642361             1   0.981576    1     1    1     1    1     1    1     1   \n",
       "606502             1   0.710904    1     1    1     1    1     1    1     1   \n",
       "\n",
       "             ...   0.5  0.55  0.6  0.65  0.7  0.75  0.8  0.85  0.9  0.95  \n",
       "Lead Number  ...                                                          \n",
       "600406       ...     1     1    1     1    1     1    1     1    1     0  \n",
       "648236       ...     1     1    1     1    1     1    0     0    0     0  \n",
       "601512       ...     1     1    1     1    1     1    1     0    0     0  \n",
       "642361       ...     1     1    1     1    1     1    1     1    1     1  \n",
       "606502       ...     1     1    1     1    1     0    0     0    0     0  \n",
       "\n",
       "[5 rows x 22 columns]"
      ]
     },
     "execution_count": 61,
     "metadata": {},
     "output_type": "execute_result"
    }
   ],
   "source": [
    "# Creating a new data frame y_train_pred to find optimal cut-off\n",
    "\n",
    "y_train_pred_final = pd.DataFrame(y_train.values, columns=['actuals'], index=y_train.index)\n",
    "y_train_pred_final['pred_prob'] = y_train_pred\n",
    "\n",
    "# Let's create columns with different probability cutoffs \n",
    "numbers = [float(x)/20 for x in range(20)]\n",
    "for i in numbers:\n",
    "    y_train_pred_final[i]= y_train_pred_final.pred_prob.map(lambda x: 1 if x > i else 0)\n",
    "y_train_pred_final.head()"
   ]
  },
  {
   "cell_type": "code",
   "execution_count": 62,
   "metadata": {
    "colab": {
     "base_uri": "https://localhost:8080/",
     "height": 669
    },
    "colab_type": "code",
    "id": "uWt2s8LqJ9lj",
    "outputId": "0215e4ec-35ec-4f44-c638-d516befb6a44"
   },
   "outputs": [
    {
     "data": {
      "text/html": [
       "<div>\n",
       "<style scoped>\n",
       "    .dataframe tbody tr th:only-of-type {\n",
       "        vertical-align: middle;\n",
       "    }\n",
       "\n",
       "    .dataframe tbody tr th {\n",
       "        vertical-align: top;\n",
       "    }\n",
       "\n",
       "    .dataframe thead th {\n",
       "        text-align: right;\n",
       "    }\n",
       "</style>\n",
       "<table border=\"1\" class=\"dataframe\">\n",
       "  <thead>\n",
       "    <tr style=\"text-align: right;\">\n",
       "      <th></th>\n",
       "      <th>prob</th>\n",
       "      <th>accuracy</th>\n",
       "      <th>sensi</th>\n",
       "      <th>speci</th>\n",
       "    </tr>\n",
       "  </thead>\n",
       "  <tbody>\n",
       "    <tr>\n",
       "      <th>0.00</th>\n",
       "      <td>0.00</td>\n",
       "      <td>0.381674</td>\n",
       "      <td>1.000000</td>\n",
       "      <td>0.000000</td>\n",
       "    </tr>\n",
       "    <tr>\n",
       "      <th>0.05</th>\n",
       "      <td>0.05</td>\n",
       "      <td>0.522511</td>\n",
       "      <td>0.990926</td>\n",
       "      <td>0.233372</td>\n",
       "    </tr>\n",
       "    <tr>\n",
       "      <th>0.10</th>\n",
       "      <td>0.10</td>\n",
       "      <td>0.637662</td>\n",
       "      <td>0.966352</td>\n",
       "      <td>0.434772</td>\n",
       "    </tr>\n",
       "    <tr>\n",
       "      <th>0.15</th>\n",
       "      <td>0.15</td>\n",
       "      <td>0.704762</td>\n",
       "      <td>0.945558</td>\n",
       "      <td>0.556126</td>\n",
       "    </tr>\n",
       "    <tr>\n",
       "      <th>0.20</th>\n",
       "      <td>0.20</td>\n",
       "      <td>0.748918</td>\n",
       "      <td>0.919849</td>\n",
       "      <td>0.643407</td>\n",
       "    </tr>\n",
       "    <tr>\n",
       "      <th>0.25</th>\n",
       "      <td>0.25</td>\n",
       "      <td>0.772583</td>\n",
       "      <td>0.896786</td>\n",
       "      <td>0.695916</td>\n",
       "    </tr>\n",
       "    <tr>\n",
       "      <th>0.30</th>\n",
       "      <td>0.30</td>\n",
       "      <td>0.792208</td>\n",
       "      <td>0.871456</td>\n",
       "      <td>0.743291</td>\n",
       "    </tr>\n",
       "    <tr>\n",
       "      <th>0.35</th>\n",
       "      <td>0.35</td>\n",
       "      <td>0.803030</td>\n",
       "      <td>0.812098</td>\n",
       "      <td>0.797433</td>\n",
       "    </tr>\n",
       "    <tr>\n",
       "      <th>0.40</th>\n",
       "      <td>0.40</td>\n",
       "      <td>0.808514</td>\n",
       "      <td>0.776181</td>\n",
       "      <td>0.828471</td>\n",
       "    </tr>\n",
       "    <tr>\n",
       "      <th>0.45</th>\n",
       "      <td>0.45</td>\n",
       "      <td>0.813853</td>\n",
       "      <td>0.743667</td>\n",
       "      <td>0.857176</td>\n",
       "    </tr>\n",
       "    <tr>\n",
       "      <th>0.50</th>\n",
       "      <td>0.50</td>\n",
       "      <td>0.815729</td>\n",
       "      <td>0.710397</td>\n",
       "      <td>0.880747</td>\n",
       "    </tr>\n",
       "    <tr>\n",
       "      <th>0.55</th>\n",
       "      <td>0.55</td>\n",
       "      <td>0.811688</td>\n",
       "      <td>0.662004</td>\n",
       "      <td>0.904084</td>\n",
       "    </tr>\n",
       "    <tr>\n",
       "      <th>0.60</th>\n",
       "      <td>0.60</td>\n",
       "      <td>0.808225</td>\n",
       "      <td>0.627221</td>\n",
       "      <td>0.919953</td>\n",
       "    </tr>\n",
       "    <tr>\n",
       "      <th>0.65</th>\n",
       "      <td>0.65</td>\n",
       "      <td>0.791775</td>\n",
       "      <td>0.555009</td>\n",
       "      <td>0.937923</td>\n",
       "    </tr>\n",
       "    <tr>\n",
       "      <th>0.70</th>\n",
       "      <td>0.70</td>\n",
       "      <td>0.780375</td>\n",
       "      <td>0.510775</td>\n",
       "      <td>0.946791</td>\n",
       "    </tr>\n",
       "    <tr>\n",
       "      <th>0.75</th>\n",
       "      <td>0.75</td>\n",
       "      <td>0.767821</td>\n",
       "      <td>0.462382</td>\n",
       "      <td>0.956359</td>\n",
       "    </tr>\n",
       "    <tr>\n",
       "      <th>0.80</th>\n",
       "      <td>0.80</td>\n",
       "      <td>0.755988</td>\n",
       "      <td>0.413989</td>\n",
       "      <td>0.967095</td>\n",
       "    </tr>\n",
       "    <tr>\n",
       "      <th>0.85</th>\n",
       "      <td>0.85</td>\n",
       "      <td>0.725541</td>\n",
       "      <td>0.317202</td>\n",
       "      <td>0.977596</td>\n",
       "    </tr>\n",
       "    <tr>\n",
       "      <th>0.90</th>\n",
       "      <td>0.90</td>\n",
       "      <td>0.700866</td>\n",
       "      <td>0.239319</td>\n",
       "      <td>0.985764</td>\n",
       "    </tr>\n",
       "    <tr>\n",
       "      <th>0.95</th>\n",
       "      <td>0.95</td>\n",
       "      <td>0.671861</td>\n",
       "      <td>0.146314</td>\n",
       "      <td>0.996266</td>\n",
       "    </tr>\n",
       "  </tbody>\n",
       "</table>\n",
       "</div>"
      ],
      "text/plain": [
       "      prob  accuracy     sensi     speci\n",
       "0.00  0.00  0.381674  1.000000  0.000000\n",
       "0.05  0.05  0.522511  0.990926  0.233372\n",
       "0.10  0.10  0.637662  0.966352  0.434772\n",
       "0.15  0.15  0.704762  0.945558  0.556126\n",
       "0.20  0.20  0.748918  0.919849  0.643407\n",
       "0.25  0.25  0.772583  0.896786  0.695916\n",
       "0.30  0.30  0.792208  0.871456  0.743291\n",
       "0.35  0.35  0.803030  0.812098  0.797433\n",
       "0.40  0.40  0.808514  0.776181  0.828471\n",
       "0.45  0.45  0.813853  0.743667  0.857176\n",
       "0.50  0.50  0.815729  0.710397  0.880747\n",
       "0.55  0.55  0.811688  0.662004  0.904084\n",
       "0.60  0.60  0.808225  0.627221  0.919953\n",
       "0.65  0.65  0.791775  0.555009  0.937923\n",
       "0.70  0.70  0.780375  0.510775  0.946791\n",
       "0.75  0.75  0.767821  0.462382  0.956359\n",
       "0.80  0.80  0.755988  0.413989  0.967095\n",
       "0.85  0.85  0.725541  0.317202  0.977596\n",
       "0.90  0.90  0.700866  0.239319  0.985764\n",
       "0.95  0.95  0.671861  0.146314  0.996266"
      ]
     },
     "execution_count": 62,
     "metadata": {},
     "output_type": "execute_result"
    }
   ],
   "source": [
    "# Now let's calculate accuracy sensitivity and specificity for various probability cutoffs.\n",
    "cutoff_df = pd.DataFrame(columns = ['prob','accuracy','sensi','speci'])\n",
    "\n",
    "num = [0.0,0.1,0.2,0.3,0.4,0.5,0.6,0.7,0.8,0.9]\n",
    "for i in numbers:\n",
    "    cm1 = metrics.confusion_matrix(y_train_pred_final.actuals, y_train_pred_final[i] )\n",
    "    total1=sum(sum(cm1))\n",
    "    accuracy = (cm1[0,0]+cm1[1,1])/total1\n",
    "    \n",
    "    speci = cm1[0,0]/(cm1[0,0]+cm1[0,1])\n",
    "    sensi = cm1[1,1]/(cm1[1,0]+cm1[1,1])\n",
    "    cutoff_df.loc[i] =[ i ,accuracy,sensi,speci]\n",
    "\n",
    "cutoff_df"
   ]
  },
  {
   "cell_type": "code",
   "execution_count": 63,
   "metadata": {
    "colab": {
     "base_uri": "https://localhost:8080/",
     "height": 334
    },
    "colab_type": "code",
    "id": "diIjISp2J-ym",
    "outputId": "e73b2992-79d4-4438-c9d0-2586ffbf6f84"
   },
   "outputs": [
    {
     "data": {
      "image/png": "[encoded data removed]",
      "text/plain": [
       "<Figure size 720x360 with 1 Axes>"
      ]
     },
     "metadata": {
      "needs_background": "light"
     },
     "output_type": "display_data"
    }
   ],
   "source": [
    "# Let's plot accuracy sensitivity and specificity for various probabilities.\n",
    "cutoff_df.plot(kind = \"line\", x='prob', y=['accuracy','sensi','speci'], figsize=(10,5))\n",
    "plt.show()"
   ]
  },
  {
   "cell_type": "code",
   "execution_count": 64,
   "metadata": {
    "colab": {},
    "colab_type": "code",
    "id": "bnL-5b3oJ-b0"
   },
   "outputs": [],
   "source": [
    "# From the above graph, we see that the optimal cut-off is at 0.35\n",
    "y_train_pred_final['optimum_predictions'] = y_train_pred_final[0.35]\n",
    "# In order to obtain a high conversion rate (80% or more) the minimum cut-off here needs to be moved up (to 0.5 in this case)\n",
    "y_train_pred_final['high_conversion_predictions'] = y_train_pred_final[0.5]\n",
    "\n",
    "y_train_pred_final = y_train_pred_final[['actuals', 'optimum_predictions', 'high_conversion_predictions', 'pred_prob']]"
   ]
  },
  {
   "cell_type": "code",
   "execution_count": 65,
   "metadata": {},
   "outputs": [
    {
     "data": {
      "text/plain": [
       "0.8157287157287157"
      ]
     },
     "execution_count": 65,
     "metadata": {},
     "output_type": "execute_result"
    }
   ],
   "source": [
    "# Let's check the overall accuracy\n",
    "metrics.accuracy_score(y_train_pred_final.actuals, y_train_pred_final.high_conversion_predictions)"
   ]
  },
  {
   "cell_type": "code",
   "execution_count": 66,
   "metadata": {
    "colab": {
     "base_uri": "https://localhost:8080/",
     "height": 170
    },
    "colab_type": "code",
    "id": "mRhfJNssi1lD",
    "outputId": "78e11165-cc82-4c53-e681-af417d714da1"
   },
   "outputs": [
    {
     "name": "stdout",
     "output_type": "stream",
     "text": [
      "              precision    recall  f1-score   support\n",
      "\n",
      "           0       0.83      0.88      0.86      4285\n",
      "           1       0.79      0.71      0.75      2645\n",
      "\n",
      "   micro avg       0.82      0.82      0.82      6930\n",
      "   macro avg       0.81      0.80      0.80      6930\n",
      "weighted avg       0.81      0.82      0.81      6930\n",
      "\n"
     ]
    }
   ],
   "source": [
    "print(classification_report(y_train_pred_final.actuals, y_train_pred_final.high_conversion_predictions))"
   ]
  },
  {
   "cell_type": "markdown",
   "metadata": {
    "colab_type": "text",
    "id": "JRTCjWZzKVIK"
   },
   "source": [
    "#### We see that the accuracy of the model on the train set is 82%"
   ]
  },
  {
   "cell_type": "code",
   "execution_count": 67,
   "metadata": {
    "colab": {
     "base_uri": "https://localhost:8080/",
     "height": 51
    },
    "colab_type": "code",
    "id": "ykGhusYeYCoe",
    "outputId": "1e190e75-3fd2-457f-eec9-365d7c5adc45"
   },
   "outputs": [
    {
     "data": {
      "text/plain": [
       "array([[3774,  511],\n",
       "       [ 766, 1879]], dtype=int64)"
      ]
     },
     "execution_count": 67,
     "metadata": {},
     "output_type": "execute_result"
    }
   ],
   "source": [
    "# Confusion matrix\n",
    "confusion_mat = metrics.confusion_matrix(y_train_pred_final.actuals, y_train_pred_final.high_conversion_predictions )\n",
    "confusion_mat"
   ]
  },
  {
   "cell_type": "code",
   "execution_count": 68,
   "metadata": {
    "colab": {},
    "colab_type": "code",
    "id": "6GzNOFJDZXsZ"
   },
   "outputs": [],
   "source": [
    "TP = confusion_mat[1,1] # true positive \n",
    "TN = confusion_mat[0,0] # true negatives\n",
    "FP = confusion_mat[0,1] # false positives\n",
    "FN = confusion_mat[1,0] # false negatives"
   ]
  },
  {
   "cell_type": "code",
   "execution_count": 69,
   "metadata": {
    "colab": {
     "base_uri": "https://localhost:8080/",
     "height": 34
    },
    "colab_type": "code",
    "id": "UZv3TOb7Zgg6",
    "outputId": "15cb5cdb-b3c0-40f5-ada5-284a9d011121"
   },
   "outputs": [
    {
     "data": {
      "text/plain": [
       "0.71"
      ]
     },
     "execution_count": 69,
     "metadata": {},
     "output_type": "execute_result"
    }
   ],
   "source": [
    "# Sensitivity\n",
    "round(TP / (TP+FN),2)"
   ]
  },
  {
   "cell_type": "markdown",
   "metadata": {
    "colab_type": "text",
    "id": "YG_xtkavZ6cF"
   },
   "source": [
    "We see that the sensitivity of the model on the test set is 71%"
   ]
  },
  {
   "cell_type": "code",
   "execution_count": 70,
   "metadata": {
    "colab": {
     "base_uri": "https://localhost:8080/",
     "height": 34
    },
    "colab_type": "code",
    "id": "mdFUSjrlaKYS",
    "outputId": "a35bf2c3-720e-46da-fdc9-e58842b438bc"
   },
   "outputs": [
    {
     "data": {
      "text/plain": [
       "0.88"
      ]
     },
     "execution_count": 70,
     "metadata": {},
     "output_type": "execute_result"
    }
   ],
   "source": [
    "# Specificity\n",
    "round(TN / float(TN+FP), 2)"
   ]
  },
  {
   "cell_type": "markdown",
   "metadata": {
    "colab_type": "text",
    "id": "jIfoBzkpaqcb"
   },
   "source": [
    "We see that the specificity of the model on the test set is 88%"
   ]
  },
  {
   "cell_type": "markdown",
   "metadata": {
    "colab_type": "text",
    "id": "_qcI_cXYYBIX"
   },
   "source": [
    "Accuracy: 82%\n",
    "\n",
    "Sensitivity: 71%\n",
    "\n",
    "Specificity: 88%\n",
    "\n",
    "F1 score: 82%\n",
    "\n",
    "Conversion Rate (Precision): 80%"
   ]
  },
  {
   "cell_type": "markdown",
   "metadata": {},
   "source": [
    "## Model Evaluation for Test data"
   ]
  },
  {
   "cell_type": "markdown",
   "metadata": {
    "colab_type": "text",
    "id": "MwKLp-h_J5zG"
   },
   "source": [
    "### Finding Optimal Cutoff Point\n",
    "\n"
   ]
  },
  {
   "cell_type": "code",
   "execution_count": 71,
   "metadata": {
    "colab": {
     "base_uri": "https://localhost:8080/",
     "height": 235
    },
    "colab_type": "code",
    "id": "mtPwAecfJTXg",
    "outputId": "f5d0bc2d-5f23-457c-dfc8-003ae13845d8"
   },
   "outputs": [
    {
     "data": {
      "text/html": [
       "<div>\n",
       "<style scoped>\n",
       "    .dataframe tbody tr th:only-of-type {\n",
       "        vertical-align: middle;\n",
       "    }\n",
       "\n",
       "    .dataframe tbody tr th {\n",
       "        vertical-align: top;\n",
       "    }\n",
       "\n",
       "    .dataframe thead th {\n",
       "        text-align: right;\n",
       "    }\n",
       "</style>\n",
       "<table border=\"1\" class=\"dataframe\">\n",
       "  <thead>\n",
       "    <tr style=\"text-align: right;\">\n",
       "      <th></th>\n",
       "      <th>actuals</th>\n",
       "      <th>pred_prob</th>\n",
       "      <th>0.0</th>\n",
       "      <th>0.05</th>\n",
       "      <th>0.1</th>\n",
       "      <th>0.15</th>\n",
       "      <th>0.2</th>\n",
       "      <th>0.25</th>\n",
       "      <th>0.3</th>\n",
       "      <th>0.35</th>\n",
       "      <th>...</th>\n",
       "      <th>0.5</th>\n",
       "      <th>0.55</th>\n",
       "      <th>0.6</th>\n",
       "      <th>0.65</th>\n",
       "      <th>0.7</th>\n",
       "      <th>0.75</th>\n",
       "      <th>0.8</th>\n",
       "      <th>0.85</th>\n",
       "      <th>0.9</th>\n",
       "      <th>0.95</th>\n",
       "    </tr>\n",
       "    <tr>\n",
       "      <th>Lead Number</th>\n",
       "      <th></th>\n",
       "      <th></th>\n",
       "      <th></th>\n",
       "      <th></th>\n",
       "      <th></th>\n",
       "      <th></th>\n",
       "      <th></th>\n",
       "      <th></th>\n",
       "      <th></th>\n",
       "      <th></th>\n",
       "      <th></th>\n",
       "      <th></th>\n",
       "      <th></th>\n",
       "      <th></th>\n",
       "      <th></th>\n",
       "      <th></th>\n",
       "      <th></th>\n",
       "      <th></th>\n",
       "      <th></th>\n",
       "      <th></th>\n",
       "      <th></th>\n",
       "    </tr>\n",
       "  </thead>\n",
       "  <tbody>\n",
       "    <tr>\n",
       "      <th>639211</th>\n",
       "      <td>1</td>\n",
       "      <td>0.708534</td>\n",
       "      <td>1</td>\n",
       "      <td>1</td>\n",
       "      <td>1</td>\n",
       "      <td>1</td>\n",
       "      <td>1</td>\n",
       "      <td>1</td>\n",
       "      <td>1</td>\n",
       "      <td>1</td>\n",
       "      <td>...</td>\n",
       "      <td>1</td>\n",
       "      <td>1</td>\n",
       "      <td>1</td>\n",
       "      <td>1</td>\n",
       "      <td>1</td>\n",
       "      <td>0</td>\n",
       "      <td>0</td>\n",
       "      <td>0</td>\n",
       "      <td>0</td>\n",
       "      <td>0</td>\n",
       "    </tr>\n",
       "    <tr>\n",
       "      <th>590711</th>\n",
       "      <td>1</td>\n",
       "      <td>0.922685</td>\n",
       "      <td>1</td>\n",
       "      <td>1</td>\n",
       "      <td>1</td>\n",
       "      <td>1</td>\n",
       "      <td>1</td>\n",
       "      <td>1</td>\n",
       "      <td>1</td>\n",
       "      <td>1</td>\n",
       "      <td>...</td>\n",
       "      <td>1</td>\n",
       "      <td>1</td>\n",
       "      <td>1</td>\n",
       "      <td>1</td>\n",
       "      <td>1</td>\n",
       "      <td>1</td>\n",
       "      <td>1</td>\n",
       "      <td>1</td>\n",
       "      <td>1</td>\n",
       "      <td>0</td>\n",
       "    </tr>\n",
       "    <tr>\n",
       "      <th>644174</th>\n",
       "      <td>1</td>\n",
       "      <td>0.563466</td>\n",
       "      <td>1</td>\n",
       "      <td>1</td>\n",
       "      <td>1</td>\n",
       "      <td>1</td>\n",
       "      <td>1</td>\n",
       "      <td>1</td>\n",
       "      <td>1</td>\n",
       "      <td>1</td>\n",
       "      <td>...</td>\n",
       "      <td>1</td>\n",
       "      <td>1</td>\n",
       "      <td>0</td>\n",
       "      <td>0</td>\n",
       "      <td>0</td>\n",
       "      <td>0</td>\n",
       "      <td>0</td>\n",
       "      <td>0</td>\n",
       "      <td>0</td>\n",
       "      <td>0</td>\n",
       "    </tr>\n",
       "    <tr>\n",
       "      <th>641392</th>\n",
       "      <td>0</td>\n",
       "      <td>0.272776</td>\n",
       "      <td>1</td>\n",
       "      <td>1</td>\n",
       "      <td>1</td>\n",
       "      <td>1</td>\n",
       "      <td>1</td>\n",
       "      <td>1</td>\n",
       "      <td>0</td>\n",
       "      <td>0</td>\n",
       "      <td>...</td>\n",
       "      <td>0</td>\n",
       "      <td>0</td>\n",
       "      <td>0</td>\n",
       "      <td>0</td>\n",
       "      <td>0</td>\n",
       "      <td>0</td>\n",
       "      <td>0</td>\n",
       "      <td>0</td>\n",
       "      <td>0</td>\n",
       "      <td>0</td>\n",
       "    </tr>\n",
       "    <tr>\n",
       "      <th>587955</th>\n",
       "      <td>1</td>\n",
       "      <td>0.903798</td>\n",
       "      <td>1</td>\n",
       "      <td>1</td>\n",
       "      <td>1</td>\n",
       "      <td>1</td>\n",
       "      <td>1</td>\n",
       "      <td>1</td>\n",
       "      <td>1</td>\n",
       "      <td>1</td>\n",
       "      <td>...</td>\n",
       "      <td>1</td>\n",
       "      <td>1</td>\n",
       "      <td>1</td>\n",
       "      <td>1</td>\n",
       "      <td>1</td>\n",
       "      <td>1</td>\n",
       "      <td>1</td>\n",
       "      <td>1</td>\n",
       "      <td>1</td>\n",
       "      <td>0</td>\n",
       "    </tr>\n",
       "  </tbody>\n",
       "</table>\n",
       "<p>5 rows × 22 columns</p>\n",
       "</div>"
      ],
      "text/plain": [
       "             actuals  pred_prob  0.0  0.05  0.1  0.15  0.2  0.25  0.3  0.35  \\\n",
       "Lead Number                                                                   \n",
       "639211             1   0.708534    1     1    1     1    1     1    1     1   \n",
       "590711             1   0.922685    1     1    1     1    1     1    1     1   \n",
       "644174             1   0.563466    1     1    1     1    1     1    1     1   \n",
       "641392             0   0.272776    1     1    1     1    1     1    0     0   \n",
       "587955             1   0.903798    1     1    1     1    1     1    1     1   \n",
       "\n",
       "             ...   0.5  0.55  0.6  0.65  0.7  0.75  0.8  0.85  0.9  0.95  \n",
       "Lead Number  ...                                                          \n",
       "639211       ...     1     1    1     1    1     0    0     0    0     0  \n",
       "590711       ...     1     1    1     1    1     1    1     1    1     0  \n",
       "644174       ...     1     1    0     0    0     0    0     0    0     0  \n",
       "641392       ...     0     0    0     0    0     0    0     0    0     0  \n",
       "587955       ...     1     1    1     1    1     1    1     1    1     0  \n",
       "\n",
       "[5 rows x 22 columns]"
      ]
     },
     "execution_count": 71,
     "metadata": {},
     "output_type": "execute_result"
    }
   ],
   "source": [
    "# Creating a new data frame y_test_pred to find optimal cut-off\n",
    "\n",
    "y_test_pred_final = pd.DataFrame(y_test.values, columns=['actuals'], index=y_test.index)\n",
    "y_test_pred_final['pred_prob'] = y_test_pred\n",
    "\n",
    "# Let's create columns with different probability cutoffs \n",
    "numbers = [float(x)/20 for x in range(20)]\n",
    "for i in numbers:\n",
    "    y_test_pred_final[i]= y_test_pred_final.pred_prob.map(lambda x: 1 if x > i else 0)\n",
    "y_test_pred_final.head()"
   ]
  },
  {
   "cell_type": "code",
   "execution_count": 72,
   "metadata": {
    "colab": {
     "base_uri": "https://localhost:8080/",
     "height": 669
    },
    "colab_type": "code",
    "id": "uWt2s8LqJ9lj",
    "outputId": "0215e4ec-35ec-4f44-c638-d516befb6a44"
   },
   "outputs": [
    {
     "data": {
      "text/html": [
       "<div>\n",
       "<style scoped>\n",
       "    .dataframe tbody tr th:only-of-type {\n",
       "        vertical-align: middle;\n",
       "    }\n",
       "\n",
       "    .dataframe tbody tr th {\n",
       "        vertical-align: top;\n",
       "    }\n",
       "\n",
       "    .dataframe thead th {\n",
       "        text-align: right;\n",
       "    }\n",
       "</style>\n",
       "<table border=\"1\" class=\"dataframe\">\n",
       "  <thead>\n",
       "    <tr style=\"text-align: right;\">\n",
       "      <th></th>\n",
       "      <th>prob</th>\n",
       "      <th>accuracy</th>\n",
       "      <th>sensi</th>\n",
       "      <th>speci</th>\n",
       "    </tr>\n",
       "  </thead>\n",
       "  <tbody>\n",
       "    <tr>\n",
       "      <th>0.00</th>\n",
       "      <td>0.00</td>\n",
       "      <td>0.396537</td>\n",
       "      <td>1.000000</td>\n",
       "      <td>0.000000</td>\n",
       "    </tr>\n",
       "    <tr>\n",
       "      <th>0.05</th>\n",
       "      <td>0.05</td>\n",
       "      <td>0.531169</td>\n",
       "      <td>0.990175</td>\n",
       "      <td>0.229555</td>\n",
       "    </tr>\n",
       "    <tr>\n",
       "      <th>0.10</th>\n",
       "      <td>0.10</td>\n",
       "      <td>0.651948</td>\n",
       "      <td>0.980349</td>\n",
       "      <td>0.436155</td>\n",
       "    </tr>\n",
       "    <tr>\n",
       "      <th>0.15</th>\n",
       "      <td>0.15</td>\n",
       "      <td>0.711688</td>\n",
       "      <td>0.955240</td>\n",
       "      <td>0.551650</td>\n",
       "    </tr>\n",
       "    <tr>\n",
       "      <th>0.20</th>\n",
       "      <td>0.20</td>\n",
       "      <td>0.756710</td>\n",
       "      <td>0.924672</td>\n",
       "      <td>0.646341</td>\n",
       "    </tr>\n",
       "    <tr>\n",
       "      <th>0.25</th>\n",
       "      <td>0.25</td>\n",
       "      <td>0.780087</td>\n",
       "      <td>0.907205</td>\n",
       "      <td>0.696557</td>\n",
       "    </tr>\n",
       "    <tr>\n",
       "      <th>0.30</th>\n",
       "      <td>0.30</td>\n",
       "      <td>0.802597</td>\n",
       "      <td>0.875546</td>\n",
       "      <td>0.754663</td>\n",
       "    </tr>\n",
       "    <tr>\n",
       "      <th>0.35</th>\n",
       "      <td>0.35</td>\n",
       "      <td>0.811688</td>\n",
       "      <td>0.825328</td>\n",
       "      <td>0.802726</td>\n",
       "    </tr>\n",
       "    <tr>\n",
       "      <th>0.40</th>\n",
       "      <td>0.40</td>\n",
       "      <td>0.812121</td>\n",
       "      <td>0.786026</td>\n",
       "      <td>0.829268</td>\n",
       "    </tr>\n",
       "    <tr>\n",
       "      <th>0.45</th>\n",
       "      <td>0.45</td>\n",
       "      <td>0.815584</td>\n",
       "      <td>0.743450</td>\n",
       "      <td>0.862984</td>\n",
       "    </tr>\n",
       "    <tr>\n",
       "      <th>0.50</th>\n",
       "      <td>0.50</td>\n",
       "      <td>0.814286</td>\n",
       "      <td>0.712882</td>\n",
       "      <td>0.880918</td>\n",
       "    </tr>\n",
       "    <tr>\n",
       "      <th>0.55</th>\n",
       "      <td>0.55</td>\n",
       "      <td>0.806494</td>\n",
       "      <td>0.665939</td>\n",
       "      <td>0.898852</td>\n",
       "    </tr>\n",
       "    <tr>\n",
       "      <th>0.60</th>\n",
       "      <td>0.60</td>\n",
       "      <td>0.798701</td>\n",
       "      <td>0.626638</td>\n",
       "      <td>0.911765</td>\n",
       "    </tr>\n",
       "    <tr>\n",
       "      <th>0.65</th>\n",
       "      <td>0.65</td>\n",
       "      <td>0.782251</td>\n",
       "      <td>0.554585</td>\n",
       "      <td>0.931851</td>\n",
       "    </tr>\n",
       "    <tr>\n",
       "      <th>0.70</th>\n",
       "      <td>0.70</td>\n",
       "      <td>0.770563</td>\n",
       "      <td>0.504367</td>\n",
       "      <td>0.945481</td>\n",
       "    </tr>\n",
       "    <tr>\n",
       "      <th>0.75</th>\n",
       "      <td>0.75</td>\n",
       "      <td>0.755844</td>\n",
       "      <td>0.447598</td>\n",
       "      <td>0.958393</td>\n",
       "    </tr>\n",
       "    <tr>\n",
       "      <th>0.80</th>\n",
       "      <td>0.80</td>\n",
       "      <td>0.739394</td>\n",
       "      <td>0.387555</td>\n",
       "      <td>0.970588</td>\n",
       "    </tr>\n",
       "    <tr>\n",
       "      <th>0.85</th>\n",
       "      <td>0.85</td>\n",
       "      <td>0.710390</td>\n",
       "      <td>0.300218</td>\n",
       "      <td>0.979914</td>\n",
       "    </tr>\n",
       "    <tr>\n",
       "      <th>0.90</th>\n",
       "      <td>0.90</td>\n",
       "      <td>0.689177</td>\n",
       "      <td>0.230349</td>\n",
       "      <td>0.990674</td>\n",
       "    </tr>\n",
       "    <tr>\n",
       "      <th>0.95</th>\n",
       "      <td>0.95</td>\n",
       "      <td>0.659307</td>\n",
       "      <td>0.145197</td>\n",
       "      <td>0.997131</td>\n",
       "    </tr>\n",
       "  </tbody>\n",
       "</table>\n",
       "</div>"
      ],
      "text/plain": [
       "      prob  accuracy     sensi     speci\n",
       "0.00  0.00  0.396537  1.000000  0.000000\n",
       "0.05  0.05  0.531169  0.990175  0.229555\n",
       "0.10  0.10  0.651948  0.980349  0.436155\n",
       "0.15  0.15  0.711688  0.955240  0.551650\n",
       "0.20  0.20  0.756710  0.924672  0.646341\n",
       "0.25  0.25  0.780087  0.907205  0.696557\n",
       "0.30  0.30  0.802597  0.875546  0.754663\n",
       "0.35  0.35  0.811688  0.825328  0.802726\n",
       "0.40  0.40  0.812121  0.786026  0.829268\n",
       "0.45  0.45  0.815584  0.743450  0.862984\n",
       "0.50  0.50  0.814286  0.712882  0.880918\n",
       "0.55  0.55  0.806494  0.665939  0.898852\n",
       "0.60  0.60  0.798701  0.626638  0.911765\n",
       "0.65  0.65  0.782251  0.554585  0.931851\n",
       "0.70  0.70  0.770563  0.504367  0.945481\n",
       "0.75  0.75  0.755844  0.447598  0.958393\n",
       "0.80  0.80  0.739394  0.387555  0.970588\n",
       "0.85  0.85  0.710390  0.300218  0.979914\n",
       "0.90  0.90  0.689177  0.230349  0.990674\n",
       "0.95  0.95  0.659307  0.145197  0.997131"
      ]
     },
     "execution_count": 72,
     "metadata": {},
     "output_type": "execute_result"
    }
   ],
   "source": [
    "# Now let's calculate accuracy sensitivity and specificity for various probability cutoffs.\n",
    "cutoff_df = pd.DataFrame(columns = ['prob','accuracy','sensi','speci'])\n",
    "\n",
    "num = [0.0,0.1,0.2,0.3,0.4,0.5,0.6,0.7,0.8,0.9]\n",
    "for i in numbers:\n",
    "    cm1 = metrics.confusion_matrix(y_test_pred_final.actuals, y_test_pred_final[i] )\n",
    "    total1=sum(sum(cm1))\n",
    "    accuracy = (cm1[0,0]+cm1[1,1])/total1\n",
    "    \n",
    "    speci = cm1[0,0]/(cm1[0,0]+cm1[0,1])\n",
    "    sensi = cm1[1,1]/(cm1[1,0]+cm1[1,1])\n",
    "    cutoff_df.loc[i] =[ i ,accuracy,sensi,speci]\n",
    "\n",
    "cutoff_df"
   ]
  },
  {
   "cell_type": "code",
   "execution_count": 73,
   "metadata": {
    "colab": {
     "base_uri": "https://localhost:8080/",
     "height": 334
    },
    "colab_type": "code",
    "id": "diIjISp2J-ym",
    "outputId": "e73b2992-79d4-4438-c9d0-2586ffbf6f84"
   },
   "outputs": [
    {
     "data": {
      "image/png": "[encoded data removed]",
      "text/plain": [
       "<Figure size 720x360 with 1 Axes>"
      ]
     },
     "metadata": {
      "needs_background": "light"
     },
     "output_type": "display_data"
    }
   ],
   "source": [
    "# Let's plot accuracy sensitivity and specificity for various probabilities.\n",
    "cutoff_df.plot(kind = \"line\", x='prob', y=['accuracy','sensi','speci'], figsize=(10,5))\n",
    "plt.show()"
   ]
  },
  {
   "cell_type": "code",
   "execution_count": 74,
   "metadata": {
    "colab": {},
    "colab_type": "code",
    "id": "bnL-5b3oJ-b0"
   },
   "outputs": [],
   "source": [
    "# From the above graph, we see that the optimal cut-off is at 0.35\n",
    "y_test_pred_final['optimum_predictions'] = y_test_pred_final[0.35]\n",
    "# In order to obtain a high conversion rate (80% or more) the minimum cut-off here needs to be moved up (to 0.5 in this case)\n",
    "y_test_pred_final['high_conversion_predictions'] = y_test_pred_final[0.5]\n",
    "\n",
    "y_test_pred_final = y_test_pred_final[['actuals', 'optimum_predictions', 'high_conversion_predictions', 'pred_prob']]"
   ]
  },
  {
   "cell_type": "code",
   "execution_count": 75,
   "metadata": {},
   "outputs": [
    {
     "data": {
      "text/plain": [
       "0.8142857142857143"
      ]
     },
     "execution_count": 75,
     "metadata": {},
     "output_type": "execute_result"
    }
   ],
   "source": [
    "# Let's check the overall accuracy.\n",
    "metrics.accuracy_score(y_test_pred_final.actuals, y_test_pred_final.high_conversion_predictions)"
   ]
  },
  {
   "cell_type": "code",
   "execution_count": 76,
   "metadata": {
    "colab": {
     "base_uri": "https://localhost:8080/",
     "height": 170
    },
    "colab_type": "code",
    "id": "mRhfJNssi1lD",
    "outputId": "78e11165-cc82-4c53-e681-af417d714da1"
   },
   "outputs": [
    {
     "name": "stdout",
     "output_type": "stream",
     "text": [
      "              precision    recall  f1-score   support\n",
      "\n",
      "           0       0.82      0.88      0.85      1394\n",
      "           1       0.80      0.71      0.75       916\n",
      "\n",
      "   micro avg       0.81      0.81      0.81      2310\n",
      "   macro avg       0.81      0.80      0.80      2310\n",
      "weighted avg       0.81      0.81      0.81      2310\n",
      "\n"
     ]
    }
   ],
   "source": [
    "print(classification_report(y_test_pred_final.actuals, y_test_pred_final.high_conversion_predictions))"
   ]
  },
  {
   "cell_type": "markdown",
   "metadata": {
    "colab_type": "text",
    "id": "JRTCjWZzKVIK"
   },
   "source": [
    "#### We see that the accuracy of the model on the test set is 81%"
   ]
  },
  {
   "cell_type": "code",
   "execution_count": 77,
   "metadata": {
    "colab": {
     "base_uri": "https://localhost:8080/",
     "height": 51
    },
    "colab_type": "code",
    "id": "ykGhusYeYCoe",
    "outputId": "1e190e75-3fd2-457f-eec9-365d7c5adc45"
   },
   "outputs": [
    {
     "data": {
      "text/plain": [
       "array([[1228,  166],\n",
       "       [ 263,  653]], dtype=int64)"
      ]
     },
     "execution_count": 77,
     "metadata": {},
     "output_type": "execute_result"
    }
   ],
   "source": [
    "# Confusion matrix\n",
    "confusion_mat = metrics.confusion_matrix(y_test_pred_final.actuals, y_test_pred_final.high_conversion_predictions )\n",
    "confusion_mat"
   ]
  },
  {
   "cell_type": "code",
   "execution_count": 78,
   "metadata": {
    "colab": {},
    "colab_type": "code",
    "id": "6GzNOFJDZXsZ"
   },
   "outputs": [],
   "source": [
    "TP = confusion_mat[1,1] # true positive \n",
    "TN = confusion_mat[0,0] # true negatives\n",
    "FP = confusion_mat[0,1] # false positives\n",
    "FN = confusion_mat[1,0] # false negatives"
   ]
  },
  {
   "cell_type": "code",
   "execution_count": 79,
   "metadata": {
    "colab": {
     "base_uri": "https://localhost:8080/",
     "height": 34
    },
    "colab_type": "code",
    "id": "UZv3TOb7Zgg6",
    "outputId": "15cb5cdb-b3c0-40f5-ada5-284a9d011121"
   },
   "outputs": [
    {
     "data": {
      "text/plain": [
       "0.71"
      ]
     },
     "execution_count": 79,
     "metadata": {},
     "output_type": "execute_result"
    }
   ],
   "source": [
    "# Sensitivity\n",
    "round(TP / (TP+FN),2)"
   ]
  },
  {
   "cell_type": "markdown",
   "metadata": {
    "colab_type": "text",
    "id": "YG_xtkavZ6cF"
   },
   "source": [
    "We see that the sensitivity of the model on the test set is 71%"
   ]
  },
  {
   "cell_type": "code",
   "execution_count": 80,
   "metadata": {
    "colab": {
     "base_uri": "https://localhost:8080/",
     "height": 34
    },
    "colab_type": "code",
    "id": "mdFUSjrlaKYS",
    "outputId": "a35bf2c3-720e-46da-fdc9-e58842b438bc"
   },
   "outputs": [
    {
     "data": {
      "text/plain": [
       "0.88"
      ]
     },
     "execution_count": 80,
     "metadata": {},
     "output_type": "execute_result"
    }
   ],
   "source": [
    "# Specificity\n",
    "round(TN / float(TN+FP), 2)"
   ]
  },
  {
   "cell_type": "markdown",
   "metadata": {
    "colab_type": "text",
    "id": "jIfoBzkpaqcb"
   },
   "source": [
    "We see that the specificity of the model on the test set is 88%"
   ]
  },
  {
   "cell_type": "markdown",
   "metadata": {
    "colab_type": "text",
    "id": "_qcI_cXYYBIX"
   },
   "source": [
    "Accuracy: 81%\n",
    "\n",
    "Sensitivity: 71%\n",
    "\n",
    "Specificity: 88%\n",
    "\n",
    "F1 score: 81%\n",
    "\n",
    "Conversion Rate (Precision): 80%"
   ]
  },
  {
   "cell_type": "markdown",
   "metadata": {
    "colab_type": "text",
    "id": "PBJVeS-9UYR7"
   },
   "source": [
    "### Lead Score"
   ]
  },
  {
   "cell_type": "code",
   "execution_count": 81,
   "metadata": {
    "colab": {
     "base_uri": "https://localhost:8080/",
     "height": 419
    },
    "colab_type": "code",
    "id": "3RGlRps9Sz_x",
    "outputId": "42e8bec8-73fd-4d21-d4c8-4fafa2e07618",
    "scrolled": true
   },
   "outputs": [
    {
     "data": {
      "text/html": [
       "<div>\n",
       "<style scoped>\n",
       "    .dataframe tbody tr th:only-of-type {\n",
       "        vertical-align: middle;\n",
       "    }\n",
       "\n",
       "    .dataframe tbody tr th {\n",
       "        vertical-align: top;\n",
       "    }\n",
       "\n",
       "    .dataframe thead th {\n",
       "        text-align: right;\n",
       "    }\n",
       "</style>\n",
       "<table border=\"1\" class=\"dataframe\">\n",
       "  <thead>\n",
       "    <tr style=\"text-align: right;\">\n",
       "      <th></th>\n",
       "      <th>Lead Number</th>\n",
       "      <th>Lead Score</th>\n",
       "    </tr>\n",
       "  </thead>\n",
       "  <tbody>\n",
       "    <tr>\n",
       "      <th>363</th>\n",
       "      <td>591536</td>\n",
       "      <td>99.8</td>\n",
       "    </tr>\n",
       "    <tr>\n",
       "      <th>1330</th>\n",
       "      <td>604411</td>\n",
       "      <td>99.8</td>\n",
       "    </tr>\n",
       "    <tr>\n",
       "      <th>1516</th>\n",
       "      <td>588075</td>\n",
       "      <td>99.7</td>\n",
       "    </tr>\n",
       "    <tr>\n",
       "      <th>390</th>\n",
       "      <td>598055</td>\n",
       "      <td>99.7</td>\n",
       "    </tr>\n",
       "    <tr>\n",
       "      <th>232</th>\n",
       "      <td>624042</td>\n",
       "      <td>99.7</td>\n",
       "    </tr>\n",
       "  </tbody>\n",
       "</table>\n",
       "</div>"
      ],
      "text/plain": [
       "      Lead Number  Lead Score\n",
       "363        591536        99.8\n",
       "1330       604411        99.8\n",
       "1516       588075        99.7\n",
       "390        598055        99.7\n",
       "232        624042        99.7"
      ]
     },
     "execution_count": 81,
     "metadata": {},
     "output_type": "execute_result"
    }
   ],
   "source": [
    "y_test_pred_final[\"Lead Score\"] = round(y_test_pred_final[\"pred_prob\"]*100,1)\n",
    "y_test_pred_final[\"Lead Score\"].reset_index().sort_values(\"Lead Score\", ascending = False).head()"
   ]
  }
 ],
 "metadata": {
  "colab": {
   "collapsed_sections": [],
   "name": "CaseStudy_LeadScoring.ipynb",
   "provenance": []
  },
  "kernelspec": {
   "display_name": "Python 3",
   "language": "python",
   "name": "python3"
  },
  "language_info": {
   "codemirror_mode": {
    "name": "ipython",
    "version": 3
   },
   "file_extension": ".py",
   "mimetype": "text/x-python",
   "name": "python",
   "nbconvert_exporter": "python",
   "pygments_lexer": "ipython3",
   "version": "3.7.1"
  }
 },
 "nbformat": 4,
 "nbformat_minor": 1
}
